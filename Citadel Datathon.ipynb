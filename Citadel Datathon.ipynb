{
 "cells": [
  {
   "cell_type": "code",
   "execution_count": 58,
   "metadata": {
    "collapsed": true
   },
   "outputs": [],
   "source": [
    "import numpy as np\n",
    "import pandas as pd\n",
    "import matplotlib.pyplot as plt\n",
    "from math import radians, cos, sin, asin, sqrt\n",
    "from scipy.stats import pearsonr\n",
    "from scipy.stats import spearmanr\n",
    "from sklearn import linear_model"
   ]
  },
  {
   "cell_type": "code",
   "execution_count": 59,
   "metadata": {
    "collapsed": false
   },
   "outputs": [],
   "source": [
    "calendar = pd.read_csv(\"/Users/chrisfan/Desktop/citadel_datathon/calendar.csv\")\n",
    "real_estate = pd.read_csv(\"/Users/chrisfan/Desktop/citadel_datathon/real_estate.csv\")\n",
    "demographics = pd.read_csv(\"/Users/chrisfan/Desktop/citadel_datathon/demographics.csv\")\n",
    "econ_state = pd.read_csv(\"/Users/chrisfan/Desktop/citadel_datathon/econ_state.csv\")\n",
    "listings = pd.read_csv(\"/Users/chrisfan/Desktop/citadel_datathon/listings.csv\", thousands = ',')\n",
    "venues = pd.read_csv(\"/Users/chrisfan/Desktop/citadel_datathon/venues.csv\")"
   ]
  },
  {
   "cell_type": "code",
   "execution_count": 60,
   "metadata": {
    "collapsed": false
   },
   "outputs": [],
   "source": [
    "listing_prices = listings['price'].str.replace('$', '')\n",
    "listing_prices = listing_prices.str.replace(',', '')\n",
    "listing_prices = pd.to_numeric(listing_prices)"
   ]
  },
  {
   "cell_type": "code",
   "execution_count": 61,
   "metadata": {
    "collapsed": false
   },
   "outputs": [
    {
     "data": {
      "image/png": "[encoded data removed]",
      "text/plain": [
       "<matplotlib.figure.Figure at 0x10e6a1c50>"
      ]
     },
     "metadata": {},
     "output_type": "display_data"
    }
   ],
   "source": [
    "plt.xticks(range(0, 500, 25))\n",
    "plt.hist(listing_prices, bins = range(0, 500, 25))\n",
    "plt.title(\"Listing Prices\")\n",
    "plt.xlabel(\"Price\")\n",
    "plt.ylabel(\"Count\")\n",
    "plt.show()"
   ]
  },
  {
   "cell_type": "code",
   "execution_count": 62,
   "metadata": {
    "collapsed": false
   },
   "outputs": [
    {
     "name": "stdout",
     "output_type": "stream",
     "text": [
      "186.131272489\n",
      "111.0\n"
     ]
    }
   ],
   "source": [
    "average_price = sum(listing_prices) / float(len(listing_prices))\n",
    "print(average_price)\n",
    "print(listing_prices.median())"
   ]
  },
  {
   "cell_type": "code",
   "execution_count": 63,
   "metadata": {
    "collapsed": true
   },
   "outputs": [],
   "source": [
    "def haversine(lon1, lat1, lon2, lat2):\n",
    "    \"\"\"\n",
    "    Calculate the great circle distance between two points\n",
    "    on the earth (specified in decimal degrees)\n",
    "    http://stackoverflow.com/questions/15736995/\n",
    "    how-can-i-quickly-estimate-the-distance-between-two-latitude-longitude-points\n",
    "    \"\"\"\n",
    "    # convert decimal degrees to radians\n",
    "    lon1, lat1, lon2, lat2 = map(radians, [lon1, lat1, lon2, lat2])\n",
    "    # haversine formula\n",
    "    dlon = lon2 - lon1\n",
    "    dlat = lat2 - lat1\n",
    "    a = sin(dlat/2)**2 + cos(lat1) * cos(lat2) * sin(dlon/2)**2\n",
    "    c = 2 * asin(sqrt(a))\n",
    "    km = 6367 * c\n",
    "    return km"
   ]
  },
  {
   "cell_type": "code",
   "execution_count": 64,
   "metadata": {
    "collapsed": false
   },
   "outputs": [],
   "source": [
    "city_to_listing = {}\n",
    "\n",
    "for city in venues['city'].unique():\n",
    "    city_to_listing[city] = []\n",
    "for i in range(len(listings)):\n",
    "    city = listings[\"city\"].iloc[i]\n",
    "    x = listings['longitude'].iloc[i]\n",
    "    y = listings['latitude'].iloc[i]\n",
    "    zipcode = listings['zipcode'].iloc[i]\n",
    "    if city in city_to_listing:\n",
    "        city_to_listing[city].append([x, y, zipcode])"
   ]
  },
  {
   "cell_type": "code",
   "execution_count": 67,
   "metadata": {
    "collapsed": false
   },
   "outputs": [
    {
     "name": "stdout",
     "output_type": "stream",
     "text": [
      "0\n",
      "100\n",
      "200\n",
      "300\n",
      "400\n",
      "500\n",
      "600\n",
      "700\n",
      "800\n",
      "900\n",
      "1000\n",
      "1100\n",
      "1200\n",
      "1300\n",
      "1400\n",
      "1500\n",
      "1600\n",
      "1700\n",
      "1800\n",
      "1900\n",
      "2000\n",
      "2100\n",
      "2200\n",
      "2300\n",
      "2400\n",
      "2500\n"
     ]
    },
    {
     "ename": "KeyboardInterrupt",
     "evalue": "",
     "output_type": "error",
     "traceback": [
      "\u001b[0;31m---------------------------------------------------------------------------\u001b[0m",
      "\u001b[0;31mKeyboardInterrupt\u001b[0m                         Traceback (most recent call last)",
      "\u001b[0;32m<ipython-input-67-4f271e60be74>\u001b[0m in \u001b[0;36m<module>\u001b[0;34m()\u001b[0m\n\u001b[1;32m      9\u001b[0m \u001b[0;34m\u001b[0m\u001b[0m\n\u001b[1;32m     10\u001b[0m     \u001b[0;32mfor\u001b[0m \u001b[0mx\u001b[0m \u001b[0;32min\u001b[0m \u001b[0mcity_to_listing\u001b[0m\u001b[0;34m[\u001b[0m\u001b[0mvenues\u001b[0m\u001b[0;34m[\u001b[0m\u001b[0;34m'city'\u001b[0m\u001b[0;34m]\u001b[0m\u001b[0;34m.\u001b[0m\u001b[0miloc\u001b[0m\u001b[0;34m[\u001b[0m\u001b[0mi\u001b[0m\u001b[0;34m]\u001b[0m\u001b[0;34m]\u001b[0m\u001b[0;34m:\u001b[0m\u001b[0;34m\u001b[0m\u001b[0m\n\u001b[0;32m---> 11\u001b[0;31m         \u001b[0;32mif\u001b[0m \u001b[0mhaversine\u001b[0m\u001b[0;34m(\u001b[0m\u001b[0mv_x\u001b[0m\u001b[0;34m,\u001b[0m \u001b[0mv_y\u001b[0m\u001b[0;34m,\u001b[0m \u001b[0mx\u001b[0m\u001b[0;34m[\u001b[0m\u001b[0;36m0\u001b[0m\u001b[0;34m]\u001b[0m\u001b[0;34m,\u001b[0m \u001b[0mx\u001b[0m\u001b[0;34m[\u001b[0m\u001b[0;36m1\u001b[0m\u001b[0;34m]\u001b[0m\u001b[0;34m)\u001b[0m \u001b[0;34m<\u001b[0m \u001b[0mhaversine\u001b[0m\u001b[0;34m(\u001b[0m\u001b[0mv_x\u001b[0m\u001b[0;34m,\u001b[0m \u001b[0mv_y\u001b[0m\u001b[0;34m,\u001b[0m \u001b[0mmin_dist\u001b[0m\u001b[0;34m[\u001b[0m\u001b[0;36m0\u001b[0m\u001b[0;34m]\u001b[0m\u001b[0;34m,\u001b[0m\u001b[0mmin_dist\u001b[0m\u001b[0;34m[\u001b[0m\u001b[0;36m1\u001b[0m\u001b[0;34m]\u001b[0m\u001b[0;34m)\u001b[0m\u001b[0;34m:\u001b[0m\u001b[0;34m\u001b[0m\u001b[0m\n\u001b[0m\u001b[1;32m     12\u001b[0m             \u001b[0mmin_dist\u001b[0m \u001b[0;34m=\u001b[0m \u001b[0mx\u001b[0m\u001b[0;34m\u001b[0m\u001b[0m\n\u001b[1;32m     13\u001b[0m     \u001b[0mvenue_to_zip\u001b[0m\u001b[0;34m[\u001b[0m\u001b[0mvenues\u001b[0m\u001b[0;34m[\u001b[0m\u001b[0;34m'id'\u001b[0m\u001b[0;34m]\u001b[0m\u001b[0;34m.\u001b[0m\u001b[0miloc\u001b[0m\u001b[0;34m[\u001b[0m\u001b[0mi\u001b[0m\u001b[0;34m]\u001b[0m\u001b[0;34m]\u001b[0m \u001b[0;34m=\u001b[0m \u001b[0mmin_dist\u001b[0m\u001b[0;34m[\u001b[0m\u001b[0;36m2\u001b[0m\u001b[0;34m]\u001b[0m\u001b[0;34m\u001b[0m\u001b[0m\n",
      "\u001b[0;32m<ipython-input-63-50d9b95e06f2>\u001b[0m in \u001b[0;36mhaversine\u001b[0;34m(lon1, lat1, lon2, lat2)\u001b[0m\n\u001b[1;32m     12\u001b[0m     \u001b[0mdlat\u001b[0m \u001b[0;34m=\u001b[0m \u001b[0mlat2\u001b[0m \u001b[0;34m-\u001b[0m \u001b[0mlat1\u001b[0m\u001b[0;34m\u001b[0m\u001b[0m\n\u001b[1;32m     13\u001b[0m     \u001b[0ma\u001b[0m \u001b[0;34m=\u001b[0m \u001b[0msin\u001b[0m\u001b[0;34m(\u001b[0m\u001b[0mdlat\u001b[0m\u001b[0;34m/\u001b[0m\u001b[0;36m2\u001b[0m\u001b[0;34m)\u001b[0m\u001b[0;34m**\u001b[0m\u001b[0;36m2\u001b[0m \u001b[0;34m+\u001b[0m \u001b[0mcos\u001b[0m\u001b[0;34m(\u001b[0m\u001b[0mlat1\u001b[0m\u001b[0;34m)\u001b[0m \u001b[0;34m*\u001b[0m \u001b[0mcos\u001b[0m\u001b[0;34m(\u001b[0m\u001b[0mlat2\u001b[0m\u001b[0;34m)\u001b[0m \u001b[0;34m*\u001b[0m \u001b[0msin\u001b[0m\u001b[0;34m(\u001b[0m\u001b[0mdlon\u001b[0m\u001b[0;34m/\u001b[0m\u001b[0;36m2\u001b[0m\u001b[0;34m)\u001b[0m\u001b[0;34m**\u001b[0m\u001b[0;36m2\u001b[0m\u001b[0;34m\u001b[0m\u001b[0m\n\u001b[0;32m---> 14\u001b[0;31m     \u001b[0mc\u001b[0m \u001b[0;34m=\u001b[0m \u001b[0;36m2\u001b[0m \u001b[0;34m*\u001b[0m \u001b[0masin\u001b[0m\u001b[0;34m(\u001b[0m\u001b[0msqrt\u001b[0m\u001b[0;34m(\u001b[0m\u001b[0ma\u001b[0m\u001b[0;34m)\u001b[0m\u001b[0;34m)\u001b[0m\u001b[0;34m\u001b[0m\u001b[0m\n\u001b[0m\u001b[1;32m     15\u001b[0m     \u001b[0mkm\u001b[0m \u001b[0;34m=\u001b[0m \u001b[0;36m6367\u001b[0m \u001b[0;34m*\u001b[0m \u001b[0mc\u001b[0m\u001b[0;34m\u001b[0m\u001b[0m\n\u001b[1;32m     16\u001b[0m     \u001b[0;32mreturn\u001b[0m \u001b[0mkm\u001b[0m\u001b[0;34m\u001b[0m\u001b[0m\n",
      "\u001b[0;31mKeyboardInterrupt\u001b[0m: "
     ]
    }
   ],
   "source": [
    "venue_to_zip = {}\n",
    "        \n",
    "for i in range(len(venues)): \n",
    "    if (i % 100 == 0):\n",
    "        print i\n",
    "    v_x = venues['longitude'].iloc[i]\n",
    "    v_y = venues['latitude'].iloc[i]\n",
    "    min_dist = city_to_listing[venues['city'].iloc[i]][0]\n",
    " \n",
    "    for x in city_to_listing[venues['city'].iloc[i]]:\n",
    "        if haversine(v_x, v_y, x[0], x[1]) < haversine(v_x, v_y, min_dist[0],min_dist[1]):\n",
    "            min_dist = x\n",
    "    venue_to_zip[venues['id'].iloc[i]] = min_dist[2]"
   ]
  },
  {
   "cell_type": "code",
   "execution_count": null,
   "metadata": {
    "collapsed": false
   },
   "outputs": [],
   "source": [
    "print(city_to_listing['seattle'][0][1])\n",
    "print(city_to_listing['seattle'][0][2])"
   ]
  },
  {
   "cell_type": "code",
   "execution_count": 124,
   "metadata": {
    "collapsed": true
   },
   "outputs": [],
   "source": [
    "real_estate_agg = {}\n",
    "for i in range(len(real_estate)):\n",
    "    zipcode = str(real_estate[\"zipcode\"].iloc[i])\n",
    "    score = int(real_estate[\"2017-06\"].iloc[i])\n",
    "    if zipcode not in real_estate_agg:\n",
    "        real_estate_agg[zipcode] = [score]\n",
    "    "
   ]
  },
  {
   "cell_type": "code",
   "execution_count": 125,
   "metadata": {
    "collapsed": true
   },
   "outputs": [],
   "source": [
    "zipcode_to_city_map = {}\n",
    "for i in range(len(real_estate)):\n",
    "    zipcode = str(real_estate[\"zipcode\"].iloc[i])\n",
    "    city = real_estate[\"city\"].iloc[i]\n",
    "    state = real_estate[\"state\"].iloc[i]\n",
    "    \n",
    "    zipcode_to_city_map[zipcode] = city + \",\" + state"
   ]
  },
  {
   "cell_type": "code",
   "execution_count": 126,
   "metadata": {
    "collapsed": true
   },
   "outputs": [],
   "source": [
    "def zip_code_filter(room_type_input, property_type_input, sample_threshold   ):\n",
    "    zip_code_agg = {}\n",
    "    for i in range(len(listings)):\n",
    "\n",
    "        room_type = listings[\"room_type\"].iloc[i]\n",
    "        property_type = listings[\"property_type\"].iloc[i]\n",
    "        \n",
    "        \n",
    "        \n",
    "        \n",
    "        if room_type  == room_type_input:\n",
    "            if property_type == property_type_input:  \n",
    "                zipcode = listings[\"zipcode\"].iloc[i]\n",
    "                price = float(listings[\"price\"].iloc[i][1:].replace(',', '')    )\n",
    "\n",
    "                if zipcode not in zip_code_agg:\n",
    "                    zip_code_agg[zipcode] = [price]\n",
    "                else:\n",
    "                    zip_code_agg[zipcode].append(price)\n",
    "\n",
    "        \n",
    "    bad_zip_code = []\n",
    "    for zipcode in zip_code_agg:\n",
    "        if len(zip_code_agg[zipcode]) < sample_threshold: \n",
    "            bad_zip_code.append(zipcode)\n",
    "\n",
    "    for bad in bad_zip_code: \n",
    "        del zip_code_agg[bad]\n",
    "    \n",
    "    return zip_code_agg\n",
    "\n",
    "\n",
    "def zip_code_filter_base( sample_threshold   ):\n",
    "    zip_code_agg = {}\n",
    "    for i in range(len(listings)):\n",
    "\n",
    "        room_type = listings[\"room_type\"].iloc[i]\n",
    "        property_type = listings[\"property_type\"].iloc[i]\n",
    "        \n",
    "        zipcode = listings[\"zipcode\"].iloc[i]\n",
    "        price = float(listings[\"price\"].iloc[i][1:].replace(',', '')    )\n",
    "\n",
    "        if zipcode not in zip_code_agg:\n",
    "            zip_code_agg[zipcode] = [price]\n",
    "        else:\n",
    "            zip_code_agg[zipcode].append(price)\n",
    "\n",
    "        \n",
    "    bad_zip_code = []\n",
    "    for zipcode in zip_code_agg:\n",
    "        if len(zip_code_agg[zipcode]) < sample_threshold: \n",
    "            bad_zip_code.append(zipcode)\n",
    "\n",
    "    for bad in bad_zip_code: \n",
    "        del zip_code_agg[bad]\n",
    "    \n",
    "    return zip_code_agg"
   ]
  },
  {
   "cell_type": "code",
   "execution_count": 127,
   "metadata": {
    "collapsed": true
   },
   "outputs": [],
   "source": [
    "zip_code_agg_output = zip_code_filter(\"Private room\", \"Apartment\", 10)\n",
    "zip_code_agg_output = zip_code_filter_base(50)\n"
   ]
  },
  {
   "cell_type": "code",
   "execution_count": 128,
   "metadata": {
    "collapsed": false
   },
   "outputs": [],
   "source": [
    "city_to_data_map = {}\n",
    "for zipcode in zip_code_agg_output:\n",
    "    if zipcode in zipcode_to_city_map:\n",
    "        city = zipcode_to_city_map[zipcode].split(\",\")[0]\n",
    "        if city in city_to_data_map:\n",
    "            city_to_data_map[city] += zip_code_agg_output[zipcode]\n",
    "        else:\n",
    "            city_to_data_map[city] = zip_code_agg_output[zipcode]"
   ]
  },
  {
   "cell_type": "code",
   "execution_count": 129,
   "metadata": {
    "collapsed": false
   },
   "outputs": [
    {
     "data": {
      "image/png": "[encoded data removed]",
      "text/plain": [
       "<matplotlib.figure.Figure at 0x10a913290>"
      ]
     },
     "metadata": {},
     "output_type": "display_data"
    }
   ],
   "source": [
    "x_price = []\n",
    "y_score = []\n",
    "for zipcode in zip_code_agg_output:\n",
    "    if zipcode in real_estate_agg:        \n",
    "        x_price.append( np.median(zip_code_agg_output[zipcode])    )\n",
    "        y_score.append( real_estate_agg[zipcode]  )\n",
    "              \n",
    "plt.plot(x_price, y_score, \"o\")\n",
    "plt.show()"
   ]
  },
  {
   "cell_type": "code",
   "execution_count": 130,
   "metadata": {
    "collapsed": false
   },
   "outputs": [
    {
     "data": {
      "image/png": "[encoded data removed]",
      "text/plain": [
       "<matplotlib.figure.Figure at 0x10a913610>"
      ]
     },
     "metadata": {},
     "output_type": "display_data"
    }
   ],
   "source": [
    "x_price = []\n",
    "y_score = []\n",
    "for zipcode in zip_code_agg_output:\n",
    "    if zipcode in real_estate_agg:        \n",
    "        x_price.append( np.median(zip_code_agg_output[zipcode])    )\n",
    "        y_score.append( real_estate_agg[zipcode]  )\n",
    "              \n",
    "plt.plot(x_price, y_score, \"o\")\n",
    "plt.show()"
   ]
  },
  {
   "cell_type": "code",
   "execution_count": null,
   "metadata": {
    "collapsed": false,
    "scrolled": true
   },
   "outputs": [],
   "source": [
    "\n",
    "\n",
    "\n",
    "\n",
    "\n",
    "\n",
    "\n",
    "#linmod = linear_model.LinearRegression()\n",
    "#linmod.fit(np.array(x_price).reshape(1, -1), np.array(y_score).reshape(1, -1))\n",
    "#linmod.coef_"
   ]
  },
  {
   "cell_type": "code",
   "execution_count": 8,
   "metadata": {
    "collapsed": false
   },
   "outputs": [
    {
     "data": {
      "text/plain": [
       "array(['ZHVI', 'ZRI'], dtype=object)"
      ]
     },
     "execution_count": 8,
     "metadata": {},
     "output_type": "execute_result"
    }
   ],
   "source": [
    "real_estate['type'].unique()"
   ]
  },
  {
   "cell_type": "code",
   "execution_count": 25,
   "metadata": {
    "collapsed": false
   },
   "outputs": [],
   "source": [
    "zipcode_index = real_estate[real_estate['type'] == 'ZHVI'].loc[:,['zipcode','2017-06']]"
   ]
  },
  {
   "cell_type": "code",
   "execution_count": 10,
   "metadata": {
    "collapsed": false
   },
   "outputs": [],
   "source": [
    "zipcode_index['zipcode'] = np.array(map(str, zipcode_index['zipcode']))"
   ]
  },
  {
   "cell_type": "code",
   "execution_count": 44,
   "metadata": {
    "collapsed": true
   },
   "outputs": [],
   "source": [
    "zipcode_index['zipcode'] = zipcode_index['zipcode'].astype(str)"
   ]
  },
  {
   "cell_type": "code",
   "execution_count": 45,
   "metadata": {
    "collapsed": false
   },
   "outputs": [
    {
     "data": {
      "text/html": [
       "<div>\n",
       "<table border=\"1\" class=\"dataframe\">\n",
       "  <thead>\n",
       "    <tr style=\"text-align: right;\">\n",
       "      <th></th>\n",
       "      <th>zipcode</th>\n",
       "      <th>2017-06</th>\n",
       "    </tr>\n",
       "  </thead>\n",
       "  <tbody>\n",
       "    <tr>\n",
       "      <th>0</th>\n",
       "      <td>10025</td>\n",
       "      <td>1247000</td>\n",
       "    </tr>\n",
       "    <tr>\n",
       "      <th>1</th>\n",
       "      <td>60657</td>\n",
       "      <td>329100</td>\n",
       "    </tr>\n",
       "    <tr>\n",
       "      <th>2</th>\n",
       "      <td>60614</td>\n",
       "      <td>415500</td>\n",
       "    </tr>\n",
       "    <tr>\n",
       "      <th>3</th>\n",
       "      <td>79936</td>\n",
       "      <td>114700</td>\n",
       "    </tr>\n",
       "    <tr>\n",
       "      <th>4</th>\n",
       "      <td>60640</td>\n",
       "      <td>206700</td>\n",
       "    </tr>\n",
       "  </tbody>\n",
       "</table>\n",
       "</div>"
      ],
      "text/plain": [
       "  zipcode  2017-06\n",
       "0   10025  1247000\n",
       "1   60657   329100\n",
       "2   60614   415500\n",
       "3   79936   114700\n",
       "4   60640   206700"
      ]
     },
     "execution_count": 45,
     "metadata": {},
     "output_type": "execute_result"
    }
   ],
   "source": [
    "zipcode_index.head(n = 5)"
   ]
  },
  {
   "cell_type": "code",
   "execution_count": 46,
   "metadata": {
    "collapsed": false
   },
   "outputs": [
    {
     "data": {
      "text/plain": [
       "13200"
      ]
     },
     "execution_count": 46,
     "metadata": {},
     "output_type": "execute_result"
    }
   ],
   "source": [
    "len(zipcode_index)"
   ]
  },
  {
   "cell_type": "code",
   "execution_count": 47,
   "metadata": {
    "collapsed": false
   },
   "outputs": [
    {
     "data": {
      "text/plain": [
       "str"
      ]
     },
     "execution_count": 47,
     "metadata": {},
     "output_type": "execute_result"
    }
   ],
   "source": [
    "type(zipcode_index['zipcode'][0])\n"
   ]
  },
  {
   "cell_type": "code",
   "execution_count": 48,
   "metadata": {
    "collapsed": false
   },
   "outputs": [
    {
     "data": {
      "text/plain": [
       "str"
      ]
     },
     "execution_count": 48,
     "metadata": {},
     "output_type": "execute_result"
    }
   ],
   "source": [
    "type(listings['zipcode'][0])"
   ]
  },
  {
   "cell_type": "code",
   "execution_count": 49,
   "metadata": {
    "collapsed": false
   },
   "outputs": [],
   "source": [
    "re_with_index = listings.merge(zipcode_index, on = 'zipcode', how = 'left')"
   ]
  },
  {
   "cell_type": "code",
   "execution_count": 50,
   "metadata": {
    "collapsed": false
   },
   "outputs": [
    {
     "data": {
      "text/plain": [
       "accommodates                                                2\n",
       "amenities                                                  {}\n",
       "availability_30                                            29\n",
       "bathrooms                                                   1\n",
       "bed_type                                             Real Bed\n",
       "bedrooms                                                    1\n",
       "beds                                                        1\n",
       "cancellation_policy                                  flexible\n",
       "city                                                 palmdale\n",
       "has_availability                                          NaN\n",
       "host_id                                              44800067\n",
       "id                                                    8909380\n",
       "instant_bookable                                            f\n",
       "latitude                                              34.4854\n",
       "longitude                                            -118.125\n",
       "metropolitan                                               LA\n",
       "name                           Nice quiet private ranch house\n",
       "price                                                  $50.00\n",
       "property_type                                           House\n",
       "review_scores_checkin                                      10\n",
       "review_scores_cleanliness                                  10\n",
       "review_scores_communication                                10\n",
       "review_scores_location                                      9\n",
       "review_scores_rating                                       93\n",
       "review_scores_value                                         9\n",
       "room_type                                        Private room\n",
       "state                                                      CA\n",
       "weekly_price                                              NaN\n",
       "zipcode                                                 93550\n",
       "2017-06                                                239300\n",
       "Name: 1, dtype: object"
      ]
     },
     "execution_count": 50,
     "metadata": {},
     "output_type": "execute_result"
    }
   ],
   "source": [
    "re_with_index.iloc[1]"
   ]
  },
  {
   "cell_type": "code",
   "execution_count": 51,
   "metadata": {
    "collapsed": false
   },
   "outputs": [
    {
     "data": {
      "text/plain": [
       "str"
      ]
     },
     "execution_count": 51,
     "metadata": {},
     "output_type": "execute_result"
    }
   ],
   "source": [
    "type(listings.iloc[1]['zipcode'])"
   ]
  },
  {
   "cell_type": "code",
   "execution_count": 54,
   "metadata": {
    "collapsed": false
   },
   "outputs": [
    {
     "data": {
      "text/plain": [
       "str"
      ]
     },
     "execution_count": 54,
     "metadata": {},
     "output_type": "execute_result"
    }
   ],
   "source": [
    "type(re_with_index.iloc[1]['zipcode'])"
   ]
  },
  {
   "cell_type": "code",
   "execution_count": null,
   "metadata": {
    "collapsed": false
   },
   "outputs": [],
   "source": [
    "re_with_index.to_csv(sep = '\\t')"
   ]
  },
  {
   "cell_type": "code",
   "execution_count": 17,
   "metadata": {
    "collapsed": false
   },
   "outputs": [],
   "source": [
    "zipcode_index.to_csv('/Users/chrisfan/Desktop/zipcode_index.csv', index=False)"
   ]
  },
  {
   "cell_type": "code",
   "execution_count": 55,
   "metadata": {
    "collapsed": true
   },
   "outputs": [],
   "source": [
    "re_with_index.to_csv('/Users/chrisfan/Desktop/listings_with_real_estate_index.csv')"
   ]
  },
  {
   "cell_type": "code",
   "execution_count": 35,
   "metadata": {
    "collapsed": false
   },
   "outputs": [
    {
     "data": {
      "text/plain": [
       "56417"
      ]
     },
     "execution_count": 35,
     "metadata": {},
     "output_type": "execute_result"
    }
   ],
   "source": [
    "len(re_with_index)"
   ]
  },
  {
   "cell_type": "code",
   "execution_count": 20,
   "metadata": {
    "collapsed": false
   },
   "outputs": [
    {
     "data": {
      "text/plain": [
       "56417"
      ]
     },
     "execution_count": 20,
     "metadata": {},
     "output_type": "execute_result"
    }
   ],
   "source": [
    "len(listings)"
   ]
  },
  {
   "cell_type": "code",
   "execution_count": 39,
   "metadata": {
    "collapsed": false
   },
   "outputs": [
    {
     "data": {
      "text/plain": [
       "numpy.float64"
      ]
     },
     "execution_count": 39,
     "metadata": {},
     "output_type": "execute_result"
    }
   ],
   "source": [
    "type(re_with_index['2017-06'][0])"
   ]
  },
  {
   "cell_type": "code",
   "execution_count": 40,
   "metadata": {
    "collapsed": false
   },
   "outputs": [
    {
     "data": {
      "text/plain": [
       "array([ nan])"
      ]
     },
     "execution_count": 40,
     "metadata": {},
     "output_type": "execute_result"
    }
   ],
   "source": [
    "re_with_index['2017-06'].unique()"
   ]
  },
  {
   "cell_type": "code",
   "execution_count": 56,
   "metadata": {
    "collapsed": false
   },
   "outputs": [
    {
     "data": {
      "text/html": [
       "<div>\n",
       "<table border=\"1\" class=\"dataframe\">\n",
       "  <thead>\n",
       "    <tr style=\"text-align: right;\">\n",
       "      <th></th>\n",
       "      <th>accommodates</th>\n",
       "      <th>amenities</th>\n",
       "      <th>availability_30</th>\n",
       "      <th>bathrooms</th>\n",
       "      <th>bed_type</th>\n",
       "      <th>bedrooms</th>\n",
       "      <th>beds</th>\n",
       "      <th>cancellation_policy</th>\n",
       "      <th>city</th>\n",
       "      <th>has_availability</th>\n",
       "      <th>...</th>\n",
       "      <th>review_scores_checkin</th>\n",
       "      <th>review_scores_cleanliness</th>\n",
       "      <th>review_scores_communication</th>\n",
       "      <th>review_scores_location</th>\n",
       "      <th>review_scores_rating</th>\n",
       "      <th>review_scores_value</th>\n",
       "      <th>room_type</th>\n",
       "      <th>state</th>\n",
       "      <th>weekly_price</th>\n",
       "      <th>zipcode</th>\n",
       "    </tr>\n",
       "    <tr>\n",
       "      <th>2017-06</th>\n",
       "      <th></th>\n",
       "      <th></th>\n",
       "      <th></th>\n",
       "      <th></th>\n",
       "      <th></th>\n",
       "      <th></th>\n",
       "      <th></th>\n",
       "      <th></th>\n",
       "      <th></th>\n",
       "      <th></th>\n",
       "      <th></th>\n",
       "      <th></th>\n",
       "      <th></th>\n",
       "      <th></th>\n",
       "      <th></th>\n",
       "      <th></th>\n",
       "      <th></th>\n",
       "      <th></th>\n",
       "      <th></th>\n",
       "      <th></th>\n",
       "      <th></th>\n",
       "    </tr>\n",
       "  </thead>\n",
       "  <tbody>\n",
       "    <tr>\n",
       "      <th>167100.0</th>\n",
       "      <td>1</td>\n",
       "      <td>1</td>\n",
       "      <td>1</td>\n",
       "      <td>1</td>\n",
       "      <td>1</td>\n",
       "      <td>1</td>\n",
       "      <td>1</td>\n",
       "      <td>1</td>\n",
       "      <td>1</td>\n",
       "      <td>0</td>\n",
       "      <td>...</td>\n",
       "      <td>0</td>\n",
       "      <td>0</td>\n",
       "      <td>0</td>\n",
       "      <td>0</td>\n",
       "      <td>0</td>\n",
       "      <td>0</td>\n",
       "      <td>1</td>\n",
       "      <td>1</td>\n",
       "      <td>0</td>\n",
       "      <td>1</td>\n",
       "    </tr>\n",
       "    <tr>\n",
       "      <th>205300.0</th>\n",
       "      <td>7</td>\n",
       "      <td>7</td>\n",
       "      <td>7</td>\n",
       "      <td>7</td>\n",
       "      <td>7</td>\n",
       "      <td>7</td>\n",
       "      <td>7</td>\n",
       "      <td>7</td>\n",
       "      <td>7</td>\n",
       "      <td>0</td>\n",
       "      <td>...</td>\n",
       "      <td>1</td>\n",
       "      <td>1</td>\n",
       "      <td>1</td>\n",
       "      <td>1</td>\n",
       "      <td>1</td>\n",
       "      <td>1</td>\n",
       "      <td>7</td>\n",
       "      <td>7</td>\n",
       "      <td>1</td>\n",
       "      <td>7</td>\n",
       "    </tr>\n",
       "    <tr>\n",
       "      <th>221800.0</th>\n",
       "      <td>10</td>\n",
       "      <td>10</td>\n",
       "      <td>10</td>\n",
       "      <td>10</td>\n",
       "      <td>10</td>\n",
       "      <td>10</td>\n",
       "      <td>10</td>\n",
       "      <td>10</td>\n",
       "      <td>10</td>\n",
       "      <td>0</td>\n",
       "      <td>...</td>\n",
       "      <td>5</td>\n",
       "      <td>5</td>\n",
       "      <td>5</td>\n",
       "      <td>5</td>\n",
       "      <td>5</td>\n",
       "      <td>5</td>\n",
       "      <td>10</td>\n",
       "      <td>10</td>\n",
       "      <td>1</td>\n",
       "      <td>10</td>\n",
       "    </tr>\n",
       "    <tr>\n",
       "      <th>238600.0</th>\n",
       "      <td>7</td>\n",
       "      <td>7</td>\n",
       "      <td>7</td>\n",
       "      <td>7</td>\n",
       "      <td>7</td>\n",
       "      <td>7</td>\n",
       "      <td>7</td>\n",
       "      <td>7</td>\n",
       "      <td>7</td>\n",
       "      <td>0</td>\n",
       "      <td>...</td>\n",
       "      <td>3</td>\n",
       "      <td>3</td>\n",
       "      <td>3</td>\n",
       "      <td>3</td>\n",
       "      <td>3</td>\n",
       "      <td>3</td>\n",
       "      <td>7</td>\n",
       "      <td>7</td>\n",
       "      <td>2</td>\n",
       "      <td>7</td>\n",
       "    </tr>\n",
       "    <tr>\n",
       "      <th>239300.0</th>\n",
       "      <td>16</td>\n",
       "      <td>16</td>\n",
       "      <td>16</td>\n",
       "      <td>16</td>\n",
       "      <td>16</td>\n",
       "      <td>16</td>\n",
       "      <td>16</td>\n",
       "      <td>16</td>\n",
       "      <td>16</td>\n",
       "      <td>0</td>\n",
       "      <td>...</td>\n",
       "      <td>12</td>\n",
       "      <td>12</td>\n",
       "      <td>12</td>\n",
       "      <td>12</td>\n",
       "      <td>12</td>\n",
       "      <td>12</td>\n",
       "      <td>16</td>\n",
       "      <td>16</td>\n",
       "      <td>3</td>\n",
       "      <td>16</td>\n",
       "    </tr>\n",
       "    <tr>\n",
       "      <th>269900.0</th>\n",
       "      <td>3</td>\n",
       "      <td>3</td>\n",
       "      <td>3</td>\n",
       "      <td>3</td>\n",
       "      <td>3</td>\n",
       "      <td>3</td>\n",
       "      <td>3</td>\n",
       "      <td>3</td>\n",
       "      <td>3</td>\n",
       "      <td>0</td>\n",
       "      <td>...</td>\n",
       "      <td>2</td>\n",
       "      <td>2</td>\n",
       "      <td>2</td>\n",
       "      <td>2</td>\n",
       "      <td>2</td>\n",
       "      <td>2</td>\n",
       "      <td>3</td>\n",
       "      <td>3</td>\n",
       "      <td>0</td>\n",
       "      <td>3</td>\n",
       "    </tr>\n",
       "    <tr>\n",
       "      <th>270200.0</th>\n",
       "      <td>3</td>\n",
       "      <td>3</td>\n",
       "      <td>3</td>\n",
       "      <td>3</td>\n",
       "      <td>3</td>\n",
       "      <td>3</td>\n",
       "      <td>3</td>\n",
       "      <td>3</td>\n",
       "      <td>3</td>\n",
       "      <td>0</td>\n",
       "      <td>...</td>\n",
       "      <td>2</td>\n",
       "      <td>2</td>\n",
       "      <td>2</td>\n",
       "      <td>2</td>\n",
       "      <td>2</td>\n",
       "      <td>2</td>\n",
       "      <td>3</td>\n",
       "      <td>3</td>\n",
       "      <td>0</td>\n",
       "      <td>3</td>\n",
       "    </tr>\n",
       "    <tr>\n",
       "      <th>282800.0</th>\n",
       "      <td>1</td>\n",
       "      <td>1</td>\n",
       "      <td>1</td>\n",
       "      <td>1</td>\n",
       "      <td>1</td>\n",
       "      <td>1</td>\n",
       "      <td>1</td>\n",
       "      <td>1</td>\n",
       "      <td>1</td>\n",
       "      <td>0</td>\n",
       "      <td>...</td>\n",
       "      <td>1</td>\n",
       "      <td>1</td>\n",
       "      <td>1</td>\n",
       "      <td>1</td>\n",
       "      <td>1</td>\n",
       "      <td>1</td>\n",
       "      <td>1</td>\n",
       "      <td>1</td>\n",
       "      <td>1</td>\n",
       "      <td>1</td>\n",
       "    </tr>\n",
       "    <tr>\n",
       "      <th>322300.0</th>\n",
       "      <td>14</td>\n",
       "      <td>14</td>\n",
       "      <td>14</td>\n",
       "      <td>14</td>\n",
       "      <td>14</td>\n",
       "      <td>14</td>\n",
       "      <td>14</td>\n",
       "      <td>14</td>\n",
       "      <td>14</td>\n",
       "      <td>0</td>\n",
       "      <td>...</td>\n",
       "      <td>9</td>\n",
       "      <td>9</td>\n",
       "      <td>9</td>\n",
       "      <td>9</td>\n",
       "      <td>9</td>\n",
       "      <td>9</td>\n",
       "      <td>14</td>\n",
       "      <td>14</td>\n",
       "      <td>4</td>\n",
       "      <td>14</td>\n",
       "    </tr>\n",
       "    <tr>\n",
       "      <th>333200.0</th>\n",
       "      <td>5</td>\n",
       "      <td>5</td>\n",
       "      <td>5</td>\n",
       "      <td>5</td>\n",
       "      <td>5</td>\n",
       "      <td>5</td>\n",
       "      <td>5</td>\n",
       "      <td>5</td>\n",
       "      <td>5</td>\n",
       "      <td>0</td>\n",
       "      <td>...</td>\n",
       "      <td>4</td>\n",
       "      <td>4</td>\n",
       "      <td>4</td>\n",
       "      <td>4</td>\n",
       "      <td>4</td>\n",
       "      <td>4</td>\n",
       "      <td>5</td>\n",
       "      <td>5</td>\n",
       "      <td>1</td>\n",
       "      <td>5</td>\n",
       "    </tr>\n",
       "    <tr>\n",
       "      <th>342500.0</th>\n",
       "      <td>312</td>\n",
       "      <td>312</td>\n",
       "      <td>312</td>\n",
       "      <td>312</td>\n",
       "      <td>312</td>\n",
       "      <td>312</td>\n",
       "      <td>311</td>\n",
       "      <td>312</td>\n",
       "      <td>312</td>\n",
       "      <td>0</td>\n",
       "      <td>...</td>\n",
       "      <td>242</td>\n",
       "      <td>243</td>\n",
       "      <td>243</td>\n",
       "      <td>242</td>\n",
       "      <td>243</td>\n",
       "      <td>242</td>\n",
       "      <td>312</td>\n",
       "      <td>312</td>\n",
       "      <td>60</td>\n",
       "      <td>312</td>\n",
       "    </tr>\n",
       "    <tr>\n",
       "      <th>344000.0</th>\n",
       "      <td>8</td>\n",
       "      <td>8</td>\n",
       "      <td>8</td>\n",
       "      <td>8</td>\n",
       "      <td>8</td>\n",
       "      <td>8</td>\n",
       "      <td>8</td>\n",
       "      <td>8</td>\n",
       "      <td>8</td>\n",
       "      <td>0</td>\n",
       "      <td>...</td>\n",
       "      <td>6</td>\n",
       "      <td>6</td>\n",
       "      <td>6</td>\n",
       "      <td>6</td>\n",
       "      <td>6</td>\n",
       "      <td>6</td>\n",
       "      <td>8</td>\n",
       "      <td>8</td>\n",
       "      <td>4</td>\n",
       "      <td>8</td>\n",
       "    </tr>\n",
       "    <tr>\n",
       "      <th>350100.0</th>\n",
       "      <td>2</td>\n",
       "      <td>2</td>\n",
       "      <td>2</td>\n",
       "      <td>2</td>\n",
       "      <td>2</td>\n",
       "      <td>2</td>\n",
       "      <td>2</td>\n",
       "      <td>2</td>\n",
       "      <td>2</td>\n",
       "      <td>0</td>\n",
       "      <td>...</td>\n",
       "      <td>1</td>\n",
       "      <td>1</td>\n",
       "      <td>1</td>\n",
       "      <td>1</td>\n",
       "      <td>1</td>\n",
       "      <td>1</td>\n",
       "      <td>2</td>\n",
       "      <td>2</td>\n",
       "      <td>0</td>\n",
       "      <td>2</td>\n",
       "    </tr>\n",
       "    <tr>\n",
       "      <th>354100.0</th>\n",
       "      <td>5</td>\n",
       "      <td>5</td>\n",
       "      <td>5</td>\n",
       "      <td>5</td>\n",
       "      <td>5</td>\n",
       "      <td>5</td>\n",
       "      <td>5</td>\n",
       "      <td>5</td>\n",
       "      <td>5</td>\n",
       "      <td>0</td>\n",
       "      <td>...</td>\n",
       "      <td>3</td>\n",
       "      <td>3</td>\n",
       "      <td>3</td>\n",
       "      <td>3</td>\n",
       "      <td>3</td>\n",
       "      <td>3</td>\n",
       "      <td>5</td>\n",
       "      <td>5</td>\n",
       "      <td>0</td>\n",
       "      <td>5</td>\n",
       "    </tr>\n",
       "    <tr>\n",
       "      <th>354500.0</th>\n",
       "      <td>18</td>\n",
       "      <td>18</td>\n",
       "      <td>18</td>\n",
       "      <td>18</td>\n",
       "      <td>18</td>\n",
       "      <td>18</td>\n",
       "      <td>18</td>\n",
       "      <td>18</td>\n",
       "      <td>18</td>\n",
       "      <td>0</td>\n",
       "      <td>...</td>\n",
       "      <td>13</td>\n",
       "      <td>13</td>\n",
       "      <td>13</td>\n",
       "      <td>13</td>\n",
       "      <td>13</td>\n",
       "      <td>13</td>\n",
       "      <td>18</td>\n",
       "      <td>18</td>\n",
       "      <td>1</td>\n",
       "      <td>18</td>\n",
       "    </tr>\n",
       "    <tr>\n",
       "      <th>364400.0</th>\n",
       "      <td>8</td>\n",
       "      <td>8</td>\n",
       "      <td>8</td>\n",
       "      <td>8</td>\n",
       "      <td>8</td>\n",
       "      <td>8</td>\n",
       "      <td>8</td>\n",
       "      <td>8</td>\n",
       "      <td>8</td>\n",
       "      <td>0</td>\n",
       "      <td>...</td>\n",
       "      <td>6</td>\n",
       "      <td>6</td>\n",
       "      <td>6</td>\n",
       "      <td>6</td>\n",
       "      <td>6</td>\n",
       "      <td>6</td>\n",
       "      <td>8</td>\n",
       "      <td>8</td>\n",
       "      <td>0</td>\n",
       "      <td>8</td>\n",
       "    </tr>\n",
       "    <tr>\n",
       "      <th>364500.0</th>\n",
       "      <td>6</td>\n",
       "      <td>6</td>\n",
       "      <td>6</td>\n",
       "      <td>6</td>\n",
       "      <td>6</td>\n",
       "      <td>6</td>\n",
       "      <td>6</td>\n",
       "      <td>6</td>\n",
       "      <td>6</td>\n",
       "      <td>0</td>\n",
       "      <td>...</td>\n",
       "      <td>4</td>\n",
       "      <td>4</td>\n",
       "      <td>4</td>\n",
       "      <td>4</td>\n",
       "      <td>4</td>\n",
       "      <td>4</td>\n",
       "      <td>6</td>\n",
       "      <td>6</td>\n",
       "      <td>2</td>\n",
       "      <td>6</td>\n",
       "    </tr>\n",
       "    <tr>\n",
       "      <th>365200.0</th>\n",
       "      <td>11</td>\n",
       "      <td>11</td>\n",
       "      <td>11</td>\n",
       "      <td>11</td>\n",
       "      <td>11</td>\n",
       "      <td>11</td>\n",
       "      <td>11</td>\n",
       "      <td>11</td>\n",
       "      <td>11</td>\n",
       "      <td>0</td>\n",
       "      <td>...</td>\n",
       "      <td>6</td>\n",
       "      <td>6</td>\n",
       "      <td>6</td>\n",
       "      <td>6</td>\n",
       "      <td>6</td>\n",
       "      <td>6</td>\n",
       "      <td>11</td>\n",
       "      <td>11</td>\n",
       "      <td>2</td>\n",
       "      <td>11</td>\n",
       "    </tr>\n",
       "    <tr>\n",
       "      <th>367500.0</th>\n",
       "      <td>3</td>\n",
       "      <td>3</td>\n",
       "      <td>3</td>\n",
       "      <td>3</td>\n",
       "      <td>3</td>\n",
       "      <td>3</td>\n",
       "      <td>3</td>\n",
       "      <td>3</td>\n",
       "      <td>3</td>\n",
       "      <td>0</td>\n",
       "      <td>...</td>\n",
       "      <td>2</td>\n",
       "      <td>2</td>\n",
       "      <td>2</td>\n",
       "      <td>2</td>\n",
       "      <td>2</td>\n",
       "      <td>2</td>\n",
       "      <td>3</td>\n",
       "      <td>3</td>\n",
       "      <td>0</td>\n",
       "      <td>3</td>\n",
       "    </tr>\n",
       "    <tr>\n",
       "      <th>372400.0</th>\n",
       "      <td>6</td>\n",
       "      <td>6</td>\n",
       "      <td>6</td>\n",
       "      <td>6</td>\n",
       "      <td>6</td>\n",
       "      <td>6</td>\n",
       "      <td>6</td>\n",
       "      <td>6</td>\n",
       "      <td>6</td>\n",
       "      <td>0</td>\n",
       "      <td>...</td>\n",
       "      <td>2</td>\n",
       "      <td>2</td>\n",
       "      <td>2</td>\n",
       "      <td>2</td>\n",
       "      <td>2</td>\n",
       "      <td>2</td>\n",
       "      <td>6</td>\n",
       "      <td>6</td>\n",
       "      <td>0</td>\n",
       "      <td>6</td>\n",
       "    </tr>\n",
       "    <tr>\n",
       "      <th>373100.0</th>\n",
       "      <td>1</td>\n",
       "      <td>1</td>\n",
       "      <td>1</td>\n",
       "      <td>1</td>\n",
       "      <td>1</td>\n",
       "      <td>1</td>\n",
       "      <td>1</td>\n",
       "      <td>1</td>\n",
       "      <td>1</td>\n",
       "      <td>0</td>\n",
       "      <td>...</td>\n",
       "      <td>1</td>\n",
       "      <td>1</td>\n",
       "      <td>1</td>\n",
       "      <td>1</td>\n",
       "      <td>1</td>\n",
       "      <td>1</td>\n",
       "      <td>1</td>\n",
       "      <td>1</td>\n",
       "      <td>0</td>\n",
       "      <td>1</td>\n",
       "    </tr>\n",
       "    <tr>\n",
       "      <th>374600.0</th>\n",
       "      <td>8</td>\n",
       "      <td>8</td>\n",
       "      <td>8</td>\n",
       "      <td>8</td>\n",
       "      <td>8</td>\n",
       "      <td>8</td>\n",
       "      <td>8</td>\n",
       "      <td>8</td>\n",
       "      <td>8</td>\n",
       "      <td>0</td>\n",
       "      <td>...</td>\n",
       "      <td>4</td>\n",
       "      <td>4</td>\n",
       "      <td>4</td>\n",
       "      <td>4</td>\n",
       "      <td>4</td>\n",
       "      <td>4</td>\n",
       "      <td>8</td>\n",
       "      <td>8</td>\n",
       "      <td>5</td>\n",
       "      <td>8</td>\n",
       "    </tr>\n",
       "    <tr>\n",
       "      <th>376300.0</th>\n",
       "      <td>62</td>\n",
       "      <td>62</td>\n",
       "      <td>62</td>\n",
       "      <td>62</td>\n",
       "      <td>62</td>\n",
       "      <td>62</td>\n",
       "      <td>62</td>\n",
       "      <td>62</td>\n",
       "      <td>62</td>\n",
       "      <td>0</td>\n",
       "      <td>...</td>\n",
       "      <td>41</td>\n",
       "      <td>41</td>\n",
       "      <td>41</td>\n",
       "      <td>41</td>\n",
       "      <td>41</td>\n",
       "      <td>41</td>\n",
       "      <td>62</td>\n",
       "      <td>62</td>\n",
       "      <td>12</td>\n",
       "      <td>62</td>\n",
       "    </tr>\n",
       "    <tr>\n",
       "      <th>377100.0</th>\n",
       "      <td>41</td>\n",
       "      <td>41</td>\n",
       "      <td>41</td>\n",
       "      <td>41</td>\n",
       "      <td>41</td>\n",
       "      <td>41</td>\n",
       "      <td>41</td>\n",
       "      <td>41</td>\n",
       "      <td>41</td>\n",
       "      <td>0</td>\n",
       "      <td>...</td>\n",
       "      <td>34</td>\n",
       "      <td>34</td>\n",
       "      <td>34</td>\n",
       "      <td>34</td>\n",
       "      <td>34</td>\n",
       "      <td>34</td>\n",
       "      <td>41</td>\n",
       "      <td>41</td>\n",
       "      <td>4</td>\n",
       "      <td>41</td>\n",
       "    </tr>\n",
       "    <tr>\n",
       "      <th>377400.0</th>\n",
       "      <td>12</td>\n",
       "      <td>12</td>\n",
       "      <td>12</td>\n",
       "      <td>12</td>\n",
       "      <td>12</td>\n",
       "      <td>12</td>\n",
       "      <td>12</td>\n",
       "      <td>12</td>\n",
       "      <td>12</td>\n",
       "      <td>0</td>\n",
       "      <td>...</td>\n",
       "      <td>5</td>\n",
       "      <td>5</td>\n",
       "      <td>5</td>\n",
       "      <td>5</td>\n",
       "      <td>5</td>\n",
       "      <td>5</td>\n",
       "      <td>12</td>\n",
       "      <td>12</td>\n",
       "      <td>1</td>\n",
       "      <td>12</td>\n",
       "    </tr>\n",
       "    <tr>\n",
       "      <th>388300.0</th>\n",
       "      <td>17</td>\n",
       "      <td>17</td>\n",
       "      <td>17</td>\n",
       "      <td>17</td>\n",
       "      <td>17</td>\n",
       "      <td>17</td>\n",
       "      <td>17</td>\n",
       "      <td>17</td>\n",
       "      <td>17</td>\n",
       "      <td>0</td>\n",
       "      <td>...</td>\n",
       "      <td>9</td>\n",
       "      <td>9</td>\n",
       "      <td>9</td>\n",
       "      <td>9</td>\n",
       "      <td>9</td>\n",
       "      <td>9</td>\n",
       "      <td>17</td>\n",
       "      <td>17</td>\n",
       "      <td>2</td>\n",
       "      <td>17</td>\n",
       "    </tr>\n",
       "    <tr>\n",
       "      <th>390000.0</th>\n",
       "      <td>30</td>\n",
       "      <td>30</td>\n",
       "      <td>30</td>\n",
       "      <td>29</td>\n",
       "      <td>30</td>\n",
       "      <td>30</td>\n",
       "      <td>29</td>\n",
       "      <td>30</td>\n",
       "      <td>30</td>\n",
       "      <td>0</td>\n",
       "      <td>...</td>\n",
       "      <td>25</td>\n",
       "      <td>25</td>\n",
       "      <td>25</td>\n",
       "      <td>25</td>\n",
       "      <td>25</td>\n",
       "      <td>25</td>\n",
       "      <td>30</td>\n",
       "      <td>30</td>\n",
       "      <td>4</td>\n",
       "      <td>30</td>\n",
       "    </tr>\n",
       "    <tr>\n",
       "      <th>393000.0</th>\n",
       "      <td>9</td>\n",
       "      <td>9</td>\n",
       "      <td>9</td>\n",
       "      <td>9</td>\n",
       "      <td>9</td>\n",
       "      <td>9</td>\n",
       "      <td>9</td>\n",
       "      <td>9</td>\n",
       "      <td>9</td>\n",
       "      <td>0</td>\n",
       "      <td>...</td>\n",
       "      <td>4</td>\n",
       "      <td>4</td>\n",
       "      <td>4</td>\n",
       "      <td>4</td>\n",
       "      <td>4</td>\n",
       "      <td>4</td>\n",
       "      <td>9</td>\n",
       "      <td>9</td>\n",
       "      <td>1</td>\n",
       "      <td>9</td>\n",
       "    </tr>\n",
       "    <tr>\n",
       "      <th>398800.0</th>\n",
       "      <td>22</td>\n",
       "      <td>22</td>\n",
       "      <td>22</td>\n",
       "      <td>22</td>\n",
       "      <td>22</td>\n",
       "      <td>22</td>\n",
       "      <td>22</td>\n",
       "      <td>22</td>\n",
       "      <td>22</td>\n",
       "      <td>0</td>\n",
       "      <td>...</td>\n",
       "      <td>18</td>\n",
       "      <td>18</td>\n",
       "      <td>18</td>\n",
       "      <td>18</td>\n",
       "      <td>18</td>\n",
       "      <td>18</td>\n",
       "      <td>22</td>\n",
       "      <td>22</td>\n",
       "      <td>5</td>\n",
       "      <td>22</td>\n",
       "    </tr>\n",
       "    <tr>\n",
       "      <th>399400.0</th>\n",
       "      <td>74</td>\n",
       "      <td>74</td>\n",
       "      <td>74</td>\n",
       "      <td>74</td>\n",
       "      <td>74</td>\n",
       "      <td>74</td>\n",
       "      <td>74</td>\n",
       "      <td>74</td>\n",
       "      <td>74</td>\n",
       "      <td>0</td>\n",
       "      <td>...</td>\n",
       "      <td>57</td>\n",
       "      <td>58</td>\n",
       "      <td>58</td>\n",
       "      <td>57</td>\n",
       "      <td>58</td>\n",
       "      <td>57</td>\n",
       "      <td>74</td>\n",
       "      <td>74</td>\n",
       "      <td>26</td>\n",
       "      <td>74</td>\n",
       "    </tr>\n",
       "    <tr>\n",
       "      <th>...</th>\n",
       "      <td>...</td>\n",
       "      <td>...</td>\n",
       "      <td>...</td>\n",
       "      <td>...</td>\n",
       "      <td>...</td>\n",
       "      <td>...</td>\n",
       "      <td>...</td>\n",
       "      <td>...</td>\n",
       "      <td>...</td>\n",
       "      <td>...</td>\n",
       "      <td>...</td>\n",
       "      <td>...</td>\n",
       "      <td>...</td>\n",
       "      <td>...</td>\n",
       "      <td>...</td>\n",
       "      <td>...</td>\n",
       "      <td>...</td>\n",
       "      <td>...</td>\n",
       "      <td>...</td>\n",
       "      <td>...</td>\n",
       "      <td>...</td>\n",
       "    </tr>\n",
       "    <tr>\n",
       "      <th>1359500.0</th>\n",
       "      <td>215</td>\n",
       "      <td>215</td>\n",
       "      <td>215</td>\n",
       "      <td>215</td>\n",
       "      <td>215</td>\n",
       "      <td>214</td>\n",
       "      <td>215</td>\n",
       "      <td>215</td>\n",
       "      <td>215</td>\n",
       "      <td>0</td>\n",
       "      <td>...</td>\n",
       "      <td>153</td>\n",
       "      <td>154</td>\n",
       "      <td>154</td>\n",
       "      <td>153</td>\n",
       "      <td>154</td>\n",
       "      <td>152</td>\n",
       "      <td>215</td>\n",
       "      <td>215</td>\n",
       "      <td>58</td>\n",
       "      <td>215</td>\n",
       "    </tr>\n",
       "    <tr>\n",
       "      <th>1367700.0</th>\n",
       "      <td>241</td>\n",
       "      <td>241</td>\n",
       "      <td>241</td>\n",
       "      <td>240</td>\n",
       "      <td>241</td>\n",
       "      <td>240</td>\n",
       "      <td>239</td>\n",
       "      <td>241</td>\n",
       "      <td>241</td>\n",
       "      <td>0</td>\n",
       "      <td>...</td>\n",
       "      <td>183</td>\n",
       "      <td>183</td>\n",
       "      <td>183</td>\n",
       "      <td>183</td>\n",
       "      <td>184</td>\n",
       "      <td>183</td>\n",
       "      <td>241</td>\n",
       "      <td>241</td>\n",
       "      <td>60</td>\n",
       "      <td>241</td>\n",
       "    </tr>\n",
       "    <tr>\n",
       "      <th>1371100.0</th>\n",
       "      <td>435</td>\n",
       "      <td>435</td>\n",
       "      <td>435</td>\n",
       "      <td>435</td>\n",
       "      <td>435</td>\n",
       "      <td>435</td>\n",
       "      <td>435</td>\n",
       "      <td>435</td>\n",
       "      <td>435</td>\n",
       "      <td>0</td>\n",
       "      <td>...</td>\n",
       "      <td>322</td>\n",
       "      <td>322</td>\n",
       "      <td>323</td>\n",
       "      <td>323</td>\n",
       "      <td>324</td>\n",
       "      <td>322</td>\n",
       "      <td>435</td>\n",
       "      <td>435</td>\n",
       "      <td>136</td>\n",
       "      <td>435</td>\n",
       "    </tr>\n",
       "    <tr>\n",
       "      <th>1372000.0</th>\n",
       "      <td>355</td>\n",
       "      <td>355</td>\n",
       "      <td>355</td>\n",
       "      <td>355</td>\n",
       "      <td>355</td>\n",
       "      <td>355</td>\n",
       "      <td>355</td>\n",
       "      <td>355</td>\n",
       "      <td>355</td>\n",
       "      <td>0</td>\n",
       "      <td>...</td>\n",
       "      <td>286</td>\n",
       "      <td>286</td>\n",
       "      <td>286</td>\n",
       "      <td>286</td>\n",
       "      <td>286</td>\n",
       "      <td>286</td>\n",
       "      <td>355</td>\n",
       "      <td>355</td>\n",
       "      <td>103</td>\n",
       "      <td>355</td>\n",
       "    </tr>\n",
       "    <tr>\n",
       "      <th>1401300.0</th>\n",
       "      <td>718</td>\n",
       "      <td>718</td>\n",
       "      <td>718</td>\n",
       "      <td>716</td>\n",
       "      <td>718</td>\n",
       "      <td>717</td>\n",
       "      <td>717</td>\n",
       "      <td>718</td>\n",
       "      <td>718</td>\n",
       "      <td>0</td>\n",
       "      <td>...</td>\n",
       "      <td>576</td>\n",
       "      <td>576</td>\n",
       "      <td>576</td>\n",
       "      <td>576</td>\n",
       "      <td>576</td>\n",
       "      <td>575</td>\n",
       "      <td>718</td>\n",
       "      <td>718</td>\n",
       "      <td>241</td>\n",
       "      <td>718</td>\n",
       "    </tr>\n",
       "    <tr>\n",
       "      <th>1417300.0</th>\n",
       "      <td>571</td>\n",
       "      <td>571</td>\n",
       "      <td>571</td>\n",
       "      <td>569</td>\n",
       "      <td>571</td>\n",
       "      <td>571</td>\n",
       "      <td>571</td>\n",
       "      <td>571</td>\n",
       "      <td>571</td>\n",
       "      <td>0</td>\n",
       "      <td>...</td>\n",
       "      <td>465</td>\n",
       "      <td>465</td>\n",
       "      <td>465</td>\n",
       "      <td>465</td>\n",
       "      <td>465</td>\n",
       "      <td>465</td>\n",
       "      <td>571</td>\n",
       "      <td>571</td>\n",
       "      <td>157</td>\n",
       "      <td>571</td>\n",
       "    </tr>\n",
       "    <tr>\n",
       "      <th>1447100.0</th>\n",
       "      <td>744</td>\n",
       "      <td>744</td>\n",
       "      <td>744</td>\n",
       "      <td>740</td>\n",
       "      <td>744</td>\n",
       "      <td>744</td>\n",
       "      <td>743</td>\n",
       "      <td>744</td>\n",
       "      <td>744</td>\n",
       "      <td>0</td>\n",
       "      <td>...</td>\n",
       "      <td>575</td>\n",
       "      <td>575</td>\n",
       "      <td>576</td>\n",
       "      <td>575</td>\n",
       "      <td>577</td>\n",
       "      <td>575</td>\n",
       "      <td>744</td>\n",
       "      <td>744</td>\n",
       "      <td>246</td>\n",
       "      <td>744</td>\n",
       "    </tr>\n",
       "    <tr>\n",
       "      <th>1478000.0</th>\n",
       "      <td>133</td>\n",
       "      <td>133</td>\n",
       "      <td>133</td>\n",
       "      <td>133</td>\n",
       "      <td>133</td>\n",
       "      <td>133</td>\n",
       "      <td>133</td>\n",
       "      <td>133</td>\n",
       "      <td>133</td>\n",
       "      <td>0</td>\n",
       "      <td>...</td>\n",
       "      <td>107</td>\n",
       "      <td>108</td>\n",
       "      <td>108</td>\n",
       "      <td>108</td>\n",
       "      <td>108</td>\n",
       "      <td>107</td>\n",
       "      <td>133</td>\n",
       "      <td>133</td>\n",
       "      <td>33</td>\n",
       "      <td>133</td>\n",
       "    </tr>\n",
       "    <tr>\n",
       "      <th>1514500.0</th>\n",
       "      <td>299</td>\n",
       "      <td>299</td>\n",
       "      <td>299</td>\n",
       "      <td>298</td>\n",
       "      <td>299</td>\n",
       "      <td>299</td>\n",
       "      <td>298</td>\n",
       "      <td>299</td>\n",
       "      <td>299</td>\n",
       "      <td>0</td>\n",
       "      <td>...</td>\n",
       "      <td>245</td>\n",
       "      <td>245</td>\n",
       "      <td>245</td>\n",
       "      <td>245</td>\n",
       "      <td>245</td>\n",
       "      <td>245</td>\n",
       "      <td>299</td>\n",
       "      <td>299</td>\n",
       "      <td>79</td>\n",
       "      <td>299</td>\n",
       "    </tr>\n",
       "    <tr>\n",
       "      <th>1526700.0</th>\n",
       "      <td>55</td>\n",
       "      <td>55</td>\n",
       "      <td>55</td>\n",
       "      <td>55</td>\n",
       "      <td>55</td>\n",
       "      <td>55</td>\n",
       "      <td>55</td>\n",
       "      <td>55</td>\n",
       "      <td>55</td>\n",
       "      <td>0</td>\n",
       "      <td>...</td>\n",
       "      <td>37</td>\n",
       "      <td>37</td>\n",
       "      <td>37</td>\n",
       "      <td>37</td>\n",
       "      <td>37</td>\n",
       "      <td>37</td>\n",
       "      <td>55</td>\n",
       "      <td>55</td>\n",
       "      <td>10</td>\n",
       "      <td>55</td>\n",
       "    </tr>\n",
       "    <tr>\n",
       "      <th>1538700.0</th>\n",
       "      <td>510</td>\n",
       "      <td>510</td>\n",
       "      <td>510</td>\n",
       "      <td>509</td>\n",
       "      <td>510</td>\n",
       "      <td>510</td>\n",
       "      <td>510</td>\n",
       "      <td>510</td>\n",
       "      <td>510</td>\n",
       "      <td>0</td>\n",
       "      <td>...</td>\n",
       "      <td>386</td>\n",
       "      <td>386</td>\n",
       "      <td>386</td>\n",
       "      <td>386</td>\n",
       "      <td>387</td>\n",
       "      <td>386</td>\n",
       "      <td>510</td>\n",
       "      <td>510</td>\n",
       "      <td>137</td>\n",
       "      <td>510</td>\n",
       "    </tr>\n",
       "    <tr>\n",
       "      <th>1541200.0</th>\n",
       "      <td>118</td>\n",
       "      <td>118</td>\n",
       "      <td>118</td>\n",
       "      <td>118</td>\n",
       "      <td>118</td>\n",
       "      <td>118</td>\n",
       "      <td>118</td>\n",
       "      <td>118</td>\n",
       "      <td>118</td>\n",
       "      <td>0</td>\n",
       "      <td>...</td>\n",
       "      <td>87</td>\n",
       "      <td>87</td>\n",
       "      <td>87</td>\n",
       "      <td>87</td>\n",
       "      <td>87</td>\n",
       "      <td>87</td>\n",
       "      <td>118</td>\n",
       "      <td>118</td>\n",
       "      <td>44</td>\n",
       "      <td>118</td>\n",
       "    </tr>\n",
       "    <tr>\n",
       "      <th>1543300.0</th>\n",
       "      <td>27</td>\n",
       "      <td>27</td>\n",
       "      <td>27</td>\n",
       "      <td>27</td>\n",
       "      <td>27</td>\n",
       "      <td>27</td>\n",
       "      <td>27</td>\n",
       "      <td>27</td>\n",
       "      <td>27</td>\n",
       "      <td>0</td>\n",
       "      <td>...</td>\n",
       "      <td>18</td>\n",
       "      <td>18</td>\n",
       "      <td>18</td>\n",
       "      <td>18</td>\n",
       "      <td>18</td>\n",
       "      <td>18</td>\n",
       "      <td>27</td>\n",
       "      <td>27</td>\n",
       "      <td>13</td>\n",
       "      <td>27</td>\n",
       "    </tr>\n",
       "    <tr>\n",
       "      <th>1627700.0</th>\n",
       "      <td>839</td>\n",
       "      <td>839</td>\n",
       "      <td>839</td>\n",
       "      <td>836</td>\n",
       "      <td>839</td>\n",
       "      <td>838</td>\n",
       "      <td>839</td>\n",
       "      <td>839</td>\n",
       "      <td>839</td>\n",
       "      <td>0</td>\n",
       "      <td>...</td>\n",
       "      <td>641</td>\n",
       "      <td>640</td>\n",
       "      <td>642</td>\n",
       "      <td>641</td>\n",
       "      <td>642</td>\n",
       "      <td>641</td>\n",
       "      <td>839</td>\n",
       "      <td>839</td>\n",
       "      <td>226</td>\n",
       "      <td>839</td>\n",
       "    </tr>\n",
       "    <tr>\n",
       "      <th>1641900.0</th>\n",
       "      <td>1731</td>\n",
       "      <td>1731</td>\n",
       "      <td>1731</td>\n",
       "      <td>1724</td>\n",
       "      <td>1731</td>\n",
       "      <td>1725</td>\n",
       "      <td>1728</td>\n",
       "      <td>1731</td>\n",
       "      <td>1731</td>\n",
       "      <td>0</td>\n",
       "      <td>...</td>\n",
       "      <td>1509</td>\n",
       "      <td>1510</td>\n",
       "      <td>1509</td>\n",
       "      <td>1509</td>\n",
       "      <td>1512</td>\n",
       "      <td>1509</td>\n",
       "      <td>1731</td>\n",
       "      <td>1731</td>\n",
       "      <td>476</td>\n",
       "      <td>1731</td>\n",
       "    </tr>\n",
       "    <tr>\n",
       "      <th>1674900.0</th>\n",
       "      <td>697</td>\n",
       "      <td>697</td>\n",
       "      <td>697</td>\n",
       "      <td>695</td>\n",
       "      <td>697</td>\n",
       "      <td>697</td>\n",
       "      <td>696</td>\n",
       "      <td>697</td>\n",
       "      <td>697</td>\n",
       "      <td>0</td>\n",
       "      <td>...</td>\n",
       "      <td>587</td>\n",
       "      <td>588</td>\n",
       "      <td>588</td>\n",
       "      <td>587</td>\n",
       "      <td>590</td>\n",
       "      <td>587</td>\n",
       "      <td>697</td>\n",
       "      <td>697</td>\n",
       "      <td>227</td>\n",
       "      <td>697</td>\n",
       "    </tr>\n",
       "    <tr>\n",
       "      <th>1701100.0</th>\n",
       "      <td>29</td>\n",
       "      <td>29</td>\n",
       "      <td>29</td>\n",
       "      <td>29</td>\n",
       "      <td>29</td>\n",
       "      <td>29</td>\n",
       "      <td>29</td>\n",
       "      <td>29</td>\n",
       "      <td>29</td>\n",
       "      <td>0</td>\n",
       "      <td>...</td>\n",
       "      <td>17</td>\n",
       "      <td>17</td>\n",
       "      <td>17</td>\n",
       "      <td>17</td>\n",
       "      <td>17</td>\n",
       "      <td>17</td>\n",
       "      <td>29</td>\n",
       "      <td>29</td>\n",
       "      <td>11</td>\n",
       "      <td>29</td>\n",
       "    </tr>\n",
       "    <tr>\n",
       "      <th>1948400.0</th>\n",
       "      <td>99</td>\n",
       "      <td>99</td>\n",
       "      <td>99</td>\n",
       "      <td>99</td>\n",
       "      <td>99</td>\n",
       "      <td>99</td>\n",
       "      <td>99</td>\n",
       "      <td>99</td>\n",
       "      <td>99</td>\n",
       "      <td>0</td>\n",
       "      <td>...</td>\n",
       "      <td>75</td>\n",
       "      <td>75</td>\n",
       "      <td>75</td>\n",
       "      <td>75</td>\n",
       "      <td>75</td>\n",
       "      <td>75</td>\n",
       "      <td>99</td>\n",
       "      <td>99</td>\n",
       "      <td>31</td>\n",
       "      <td>99</td>\n",
       "    </tr>\n",
       "    <tr>\n",
       "      <th>1983600.0</th>\n",
       "      <td>7</td>\n",
       "      <td>7</td>\n",
       "      <td>7</td>\n",
       "      <td>7</td>\n",
       "      <td>7</td>\n",
       "      <td>7</td>\n",
       "      <td>7</td>\n",
       "      <td>7</td>\n",
       "      <td>7</td>\n",
       "      <td>0</td>\n",
       "      <td>...</td>\n",
       "      <td>6</td>\n",
       "      <td>6</td>\n",
       "      <td>6</td>\n",
       "      <td>6</td>\n",
       "      <td>6</td>\n",
       "      <td>6</td>\n",
       "      <td>7</td>\n",
       "      <td>7</td>\n",
       "      <td>0</td>\n",
       "      <td>7</td>\n",
       "    </tr>\n",
       "    <tr>\n",
       "      <th>2166200.0</th>\n",
       "      <td>160</td>\n",
       "      <td>160</td>\n",
       "      <td>160</td>\n",
       "      <td>160</td>\n",
       "      <td>160</td>\n",
       "      <td>160</td>\n",
       "      <td>160</td>\n",
       "      <td>160</td>\n",
       "      <td>160</td>\n",
       "      <td>0</td>\n",
       "      <td>...</td>\n",
       "      <td>119</td>\n",
       "      <td>120</td>\n",
       "      <td>120</td>\n",
       "      <td>119</td>\n",
       "      <td>120</td>\n",
       "      <td>119</td>\n",
       "      <td>160</td>\n",
       "      <td>160</td>\n",
       "      <td>27</td>\n",
       "      <td>160</td>\n",
       "    </tr>\n",
       "    <tr>\n",
       "      <th>2194900.0</th>\n",
       "      <td>329</td>\n",
       "      <td>329</td>\n",
       "      <td>329</td>\n",
       "      <td>327</td>\n",
       "      <td>329</td>\n",
       "      <td>329</td>\n",
       "      <td>329</td>\n",
       "      <td>329</td>\n",
       "      <td>329</td>\n",
       "      <td>0</td>\n",
       "      <td>...</td>\n",
       "      <td>252</td>\n",
       "      <td>252</td>\n",
       "      <td>252</td>\n",
       "      <td>252</td>\n",
       "      <td>252</td>\n",
       "      <td>252</td>\n",
       "      <td>329</td>\n",
       "      <td>329</td>\n",
       "      <td>77</td>\n",
       "      <td>329</td>\n",
       "    </tr>\n",
       "    <tr>\n",
       "      <th>2246900.0</th>\n",
       "      <td>188</td>\n",
       "      <td>188</td>\n",
       "      <td>188</td>\n",
       "      <td>188</td>\n",
       "      <td>188</td>\n",
       "      <td>188</td>\n",
       "      <td>188</td>\n",
       "      <td>188</td>\n",
       "      <td>188</td>\n",
       "      <td>0</td>\n",
       "      <td>...</td>\n",
       "      <td>149</td>\n",
       "      <td>149</td>\n",
       "      <td>149</td>\n",
       "      <td>149</td>\n",
       "      <td>149</td>\n",
       "      <td>149</td>\n",
       "      <td>188</td>\n",
       "      <td>188</td>\n",
       "      <td>63</td>\n",
       "      <td>188</td>\n",
       "    </tr>\n",
       "    <tr>\n",
       "      <th>2248300.0</th>\n",
       "      <td>9</td>\n",
       "      <td>9</td>\n",
       "      <td>9</td>\n",
       "      <td>9</td>\n",
       "      <td>9</td>\n",
       "      <td>9</td>\n",
       "      <td>9</td>\n",
       "      <td>9</td>\n",
       "      <td>9</td>\n",
       "      <td>0</td>\n",
       "      <td>...</td>\n",
       "      <td>8</td>\n",
       "      <td>8</td>\n",
       "      <td>8</td>\n",
       "      <td>8</td>\n",
       "      <td>8</td>\n",
       "      <td>8</td>\n",
       "      <td>9</td>\n",
       "      <td>9</td>\n",
       "      <td>0</td>\n",
       "      <td>9</td>\n",
       "    </tr>\n",
       "    <tr>\n",
       "      <th>2398800.0</th>\n",
       "      <td>228</td>\n",
       "      <td>228</td>\n",
       "      <td>228</td>\n",
       "      <td>227</td>\n",
       "      <td>228</td>\n",
       "      <td>228</td>\n",
       "      <td>227</td>\n",
       "      <td>228</td>\n",
       "      <td>228</td>\n",
       "      <td>0</td>\n",
       "      <td>...</td>\n",
       "      <td>158</td>\n",
       "      <td>158</td>\n",
       "      <td>158</td>\n",
       "      <td>158</td>\n",
       "      <td>158</td>\n",
       "      <td>158</td>\n",
       "      <td>228</td>\n",
       "      <td>228</td>\n",
       "      <td>60</td>\n",
       "      <td>228</td>\n",
       "    </tr>\n",
       "    <tr>\n",
       "      <th>2477300.0</th>\n",
       "      <td>1</td>\n",
       "      <td>1</td>\n",
       "      <td>1</td>\n",
       "      <td>1</td>\n",
       "      <td>1</td>\n",
       "      <td>1</td>\n",
       "      <td>1</td>\n",
       "      <td>1</td>\n",
       "      <td>1</td>\n",
       "      <td>0</td>\n",
       "      <td>...</td>\n",
       "      <td>1</td>\n",
       "      <td>1</td>\n",
       "      <td>1</td>\n",
       "      <td>1</td>\n",
       "      <td>1</td>\n",
       "      <td>1</td>\n",
       "      <td>1</td>\n",
       "      <td>1</td>\n",
       "      <td>1</td>\n",
       "      <td>1</td>\n",
       "    </tr>\n",
       "    <tr>\n",
       "      <th>2500700.0</th>\n",
       "      <td>72</td>\n",
       "      <td>72</td>\n",
       "      <td>72</td>\n",
       "      <td>72</td>\n",
       "      <td>72</td>\n",
       "      <td>72</td>\n",
       "      <td>72</td>\n",
       "      <td>72</td>\n",
       "      <td>72</td>\n",
       "      <td>0</td>\n",
       "      <td>...</td>\n",
       "      <td>38</td>\n",
       "      <td>38</td>\n",
       "      <td>38</td>\n",
       "      <td>38</td>\n",
       "      <td>38</td>\n",
       "      <td>38</td>\n",
       "      <td>72</td>\n",
       "      <td>72</td>\n",
       "      <td>19</td>\n",
       "      <td>72</td>\n",
       "    </tr>\n",
       "    <tr>\n",
       "      <th>2689300.0</th>\n",
       "      <td>153</td>\n",
       "      <td>153</td>\n",
       "      <td>153</td>\n",
       "      <td>153</td>\n",
       "      <td>153</td>\n",
       "      <td>153</td>\n",
       "      <td>153</td>\n",
       "      <td>153</td>\n",
       "      <td>153</td>\n",
       "      <td>0</td>\n",
       "      <td>...</td>\n",
       "      <td>98</td>\n",
       "      <td>98</td>\n",
       "      <td>98</td>\n",
       "      <td>98</td>\n",
       "      <td>98</td>\n",
       "      <td>98</td>\n",
       "      <td>153</td>\n",
       "      <td>153</td>\n",
       "      <td>54</td>\n",
       "      <td>153</td>\n",
       "    </tr>\n",
       "    <tr>\n",
       "      <th>2907500.0</th>\n",
       "      <td>425</td>\n",
       "      <td>425</td>\n",
       "      <td>425</td>\n",
       "      <td>421</td>\n",
       "      <td>425</td>\n",
       "      <td>423</td>\n",
       "      <td>424</td>\n",
       "      <td>425</td>\n",
       "      <td>425</td>\n",
       "      <td>0</td>\n",
       "      <td>...</td>\n",
       "      <td>298</td>\n",
       "      <td>298</td>\n",
       "      <td>299</td>\n",
       "      <td>297</td>\n",
       "      <td>299</td>\n",
       "      <td>297</td>\n",
       "      <td>425</td>\n",
       "      <td>425</td>\n",
       "      <td>115</td>\n",
       "      <td>425</td>\n",
       "    </tr>\n",
       "    <tr>\n",
       "      <th>3393300.0</th>\n",
       "      <td>90</td>\n",
       "      <td>90</td>\n",
       "      <td>90</td>\n",
       "      <td>90</td>\n",
       "      <td>90</td>\n",
       "      <td>90</td>\n",
       "      <td>90</td>\n",
       "      <td>90</td>\n",
       "      <td>90</td>\n",
       "      <td>0</td>\n",
       "      <td>...</td>\n",
       "      <td>68</td>\n",
       "      <td>68</td>\n",
       "      <td>68</td>\n",
       "      <td>68</td>\n",
       "      <td>68</td>\n",
       "      <td>68</td>\n",
       "      <td>90</td>\n",
       "      <td>90</td>\n",
       "      <td>30</td>\n",
       "      <td>90</td>\n",
       "    </tr>\n",
       "    <tr>\n",
       "      <th>4895400.0</th>\n",
       "      <td>222</td>\n",
       "      <td>222</td>\n",
       "      <td>222</td>\n",
       "      <td>222</td>\n",
       "      <td>222</td>\n",
       "      <td>222</td>\n",
       "      <td>222</td>\n",
       "      <td>222</td>\n",
       "      <td>222</td>\n",
       "      <td>0</td>\n",
       "      <td>...</td>\n",
       "      <td>126</td>\n",
       "      <td>126</td>\n",
       "      <td>126</td>\n",
       "      <td>126</td>\n",
       "      <td>126</td>\n",
       "      <td>126</td>\n",
       "      <td>222</td>\n",
       "      <td>222</td>\n",
       "      <td>43</td>\n",
       "      <td>222</td>\n",
       "    </tr>\n",
       "  </tbody>\n",
       "</table>\n",
       "<p>345 rows × 29 columns</p>\n",
       "</div>"
      ],
      "text/plain": [
       "           accommodates  amenities  availability_30  bathrooms  bed_type  \\\n",
       "2017-06                                                                    \n",
       "167100.0              1          1                1          1         1   \n",
       "205300.0              7          7                7          7         7   \n",
       "221800.0             10         10               10         10        10   \n",
       "238600.0              7          7                7          7         7   \n",
       "239300.0             16         16               16         16        16   \n",
       "269900.0              3          3                3          3         3   \n",
       "270200.0              3          3                3          3         3   \n",
       "282800.0              1          1                1          1         1   \n",
       "322300.0             14         14               14         14        14   \n",
       "333200.0              5          5                5          5         5   \n",
       "342500.0            312        312              312        312       312   \n",
       "344000.0              8          8                8          8         8   \n",
       "350100.0              2          2                2          2         2   \n",
       "354100.0              5          5                5          5         5   \n",
       "354500.0             18         18               18         18        18   \n",
       "364400.0              8          8                8          8         8   \n",
       "364500.0              6          6                6          6         6   \n",
       "365200.0             11         11               11         11        11   \n",
       "367500.0              3          3                3          3         3   \n",
       "372400.0              6          6                6          6         6   \n",
       "373100.0              1          1                1          1         1   \n",
       "374600.0              8          8                8          8         8   \n",
       "376300.0             62         62               62         62        62   \n",
       "377100.0             41         41               41         41        41   \n",
       "377400.0             12         12               12         12        12   \n",
       "388300.0             17         17               17         17        17   \n",
       "390000.0             30         30               30         29        30   \n",
       "393000.0              9          9                9          9         9   \n",
       "398800.0             22         22               22         22        22   \n",
       "399400.0             74         74               74         74        74   \n",
       "...                 ...        ...              ...        ...       ...   \n",
       "1359500.0           215        215              215        215       215   \n",
       "1367700.0           241        241              241        240       241   \n",
       "1371100.0           435        435              435        435       435   \n",
       "1372000.0           355        355              355        355       355   \n",
       "1401300.0           718        718              718        716       718   \n",
       "1417300.0           571        571              571        569       571   \n",
       "1447100.0           744        744              744        740       744   \n",
       "1478000.0           133        133              133        133       133   \n",
       "1514500.0           299        299              299        298       299   \n",
       "1526700.0            55         55               55         55        55   \n",
       "1538700.0           510        510              510        509       510   \n",
       "1541200.0           118        118              118        118       118   \n",
       "1543300.0            27         27               27         27        27   \n",
       "1627700.0           839        839              839        836       839   \n",
       "1641900.0          1731       1731             1731       1724      1731   \n",
       "1674900.0           697        697              697        695       697   \n",
       "1701100.0            29         29               29         29        29   \n",
       "1948400.0            99         99               99         99        99   \n",
       "1983600.0             7          7                7          7         7   \n",
       "2166200.0           160        160              160        160       160   \n",
       "2194900.0           329        329              329        327       329   \n",
       "2246900.0           188        188              188        188       188   \n",
       "2248300.0             9          9                9          9         9   \n",
       "2398800.0           228        228              228        227       228   \n",
       "2477300.0             1          1                1          1         1   \n",
       "2500700.0            72         72               72         72        72   \n",
       "2689300.0           153        153              153        153       153   \n",
       "2907500.0           425        425              425        421       425   \n",
       "3393300.0            90         90               90         90        90   \n",
       "4895400.0           222        222              222        222       222   \n",
       "\n",
       "           bedrooms  beds  cancellation_policy  city  has_availability  \\\n",
       "2017-06                                                                  \n",
       "167100.0          1     1                    1     1                 0   \n",
       "205300.0          7     7                    7     7                 0   \n",
       "221800.0         10    10                   10    10                 0   \n",
       "238600.0          7     7                    7     7                 0   \n",
       "239300.0         16    16                   16    16                 0   \n",
       "269900.0          3     3                    3     3                 0   \n",
       "270200.0          3     3                    3     3                 0   \n",
       "282800.0          1     1                    1     1                 0   \n",
       "322300.0         14    14                   14    14                 0   \n",
       "333200.0          5     5                    5     5                 0   \n",
       "342500.0        312   311                  312   312                 0   \n",
       "344000.0          8     8                    8     8                 0   \n",
       "350100.0          2     2                    2     2                 0   \n",
       "354100.0          5     5                    5     5                 0   \n",
       "354500.0         18    18                   18    18                 0   \n",
       "364400.0          8     8                    8     8                 0   \n",
       "364500.0          6     6                    6     6                 0   \n",
       "365200.0         11    11                   11    11                 0   \n",
       "367500.0          3     3                    3     3                 0   \n",
       "372400.0          6     6                    6     6                 0   \n",
       "373100.0          1     1                    1     1                 0   \n",
       "374600.0          8     8                    8     8                 0   \n",
       "376300.0         62    62                   62    62                 0   \n",
       "377100.0         41    41                   41    41                 0   \n",
       "377400.0         12    12                   12    12                 0   \n",
       "388300.0         17    17                   17    17                 0   \n",
       "390000.0         30    29                   30    30                 0   \n",
       "393000.0          9     9                    9     9                 0   \n",
       "398800.0         22    22                   22    22                 0   \n",
       "399400.0         74    74                   74    74                 0   \n",
       "...             ...   ...                  ...   ...               ...   \n",
       "1359500.0       214   215                  215   215                 0   \n",
       "1367700.0       240   239                  241   241                 0   \n",
       "1371100.0       435   435                  435   435                 0   \n",
       "1372000.0       355   355                  355   355                 0   \n",
       "1401300.0       717   717                  718   718                 0   \n",
       "1417300.0       571   571                  571   571                 0   \n",
       "1447100.0       744   743                  744   744                 0   \n",
       "1478000.0       133   133                  133   133                 0   \n",
       "1514500.0       299   298                  299   299                 0   \n",
       "1526700.0        55    55                   55    55                 0   \n",
       "1538700.0       510   510                  510   510                 0   \n",
       "1541200.0       118   118                  118   118                 0   \n",
       "1543300.0        27    27                   27    27                 0   \n",
       "1627700.0       838   839                  839   839                 0   \n",
       "1641900.0      1725  1728                 1731  1731                 0   \n",
       "1674900.0       697   696                  697   697                 0   \n",
       "1701100.0        29    29                   29    29                 0   \n",
       "1948400.0        99    99                   99    99                 0   \n",
       "1983600.0         7     7                    7     7                 0   \n",
       "2166200.0       160   160                  160   160                 0   \n",
       "2194900.0       329   329                  329   329                 0   \n",
       "2246900.0       188   188                  188   188                 0   \n",
       "2248300.0         9     9                    9     9                 0   \n",
       "2398800.0       228   227                  228   228                 0   \n",
       "2477300.0         1     1                    1     1                 0   \n",
       "2500700.0        72    72                   72    72                 0   \n",
       "2689300.0       153   153                  153   153                 0   \n",
       "2907500.0       423   424                  425   425                 0   \n",
       "3393300.0        90    90                   90    90                 0   \n",
       "4895400.0       222   222                  222   222                 0   \n",
       "\n",
       "            ...     review_scores_checkin  review_scores_cleanliness  \\\n",
       "2017-06     ...                                                        \n",
       "167100.0    ...                         0                          0   \n",
       "205300.0    ...                         1                          1   \n",
       "221800.0    ...                         5                          5   \n",
       "238600.0    ...                         3                          3   \n",
       "239300.0    ...                        12                         12   \n",
       "269900.0    ...                         2                          2   \n",
       "270200.0    ...                         2                          2   \n",
       "282800.0    ...                         1                          1   \n",
       "322300.0    ...                         9                          9   \n",
       "333200.0    ...                         4                          4   \n",
       "342500.0    ...                       242                        243   \n",
       "344000.0    ...                         6                          6   \n",
       "350100.0    ...                         1                          1   \n",
       "354100.0    ...                         3                          3   \n",
       "354500.0    ...                        13                         13   \n",
       "364400.0    ...                         6                          6   \n",
       "364500.0    ...                         4                          4   \n",
       "365200.0    ...                         6                          6   \n",
       "367500.0    ...                         2                          2   \n",
       "372400.0    ...                         2                          2   \n",
       "373100.0    ...                         1                          1   \n",
       "374600.0    ...                         4                          4   \n",
       "376300.0    ...                        41                         41   \n",
       "377100.0    ...                        34                         34   \n",
       "377400.0    ...                         5                          5   \n",
       "388300.0    ...                         9                          9   \n",
       "390000.0    ...                        25                         25   \n",
       "393000.0    ...                         4                          4   \n",
       "398800.0    ...                        18                         18   \n",
       "399400.0    ...                        57                         58   \n",
       "...         ...                       ...                        ...   \n",
       "1359500.0   ...                       153                        154   \n",
       "1367700.0   ...                       183                        183   \n",
       "1371100.0   ...                       322                        322   \n",
       "1372000.0   ...                       286                        286   \n",
       "1401300.0   ...                       576                        576   \n",
       "1417300.0   ...                       465                        465   \n",
       "1447100.0   ...                       575                        575   \n",
       "1478000.0   ...                       107                        108   \n",
       "1514500.0   ...                       245                        245   \n",
       "1526700.0   ...                        37                         37   \n",
       "1538700.0   ...                       386                        386   \n",
       "1541200.0   ...                        87                         87   \n",
       "1543300.0   ...                        18                         18   \n",
       "1627700.0   ...                       641                        640   \n",
       "1641900.0   ...                      1509                       1510   \n",
       "1674900.0   ...                       587                        588   \n",
       "1701100.0   ...                        17                         17   \n",
       "1948400.0   ...                        75                         75   \n",
       "1983600.0   ...                         6                          6   \n",
       "2166200.0   ...                       119                        120   \n",
       "2194900.0   ...                       252                        252   \n",
       "2246900.0   ...                       149                        149   \n",
       "2248300.0   ...                         8                          8   \n",
       "2398800.0   ...                       158                        158   \n",
       "2477300.0   ...                         1                          1   \n",
       "2500700.0   ...                        38                         38   \n",
       "2689300.0   ...                        98                         98   \n",
       "2907500.0   ...                       298                        298   \n",
       "3393300.0   ...                        68                         68   \n",
       "4895400.0   ...                       126                        126   \n",
       "\n",
       "           review_scores_communication  review_scores_location  \\\n",
       "2017-06                                                          \n",
       "167100.0                             0                       0   \n",
       "205300.0                             1                       1   \n",
       "221800.0                             5                       5   \n",
       "238600.0                             3                       3   \n",
       "239300.0                            12                      12   \n",
       "269900.0                             2                       2   \n",
       "270200.0                             2                       2   \n",
       "282800.0                             1                       1   \n",
       "322300.0                             9                       9   \n",
       "333200.0                             4                       4   \n",
       "342500.0                           243                     242   \n",
       "344000.0                             6                       6   \n",
       "350100.0                             1                       1   \n",
       "354100.0                             3                       3   \n",
       "354500.0                            13                      13   \n",
       "364400.0                             6                       6   \n",
       "364500.0                             4                       4   \n",
       "365200.0                             6                       6   \n",
       "367500.0                             2                       2   \n",
       "372400.0                             2                       2   \n",
       "373100.0                             1                       1   \n",
       "374600.0                             4                       4   \n",
       "376300.0                            41                      41   \n",
       "377100.0                            34                      34   \n",
       "377400.0                             5                       5   \n",
       "388300.0                             9                       9   \n",
       "390000.0                            25                      25   \n",
       "393000.0                             4                       4   \n",
       "398800.0                            18                      18   \n",
       "399400.0                            58                      57   \n",
       "...                                ...                     ...   \n",
       "1359500.0                          154                     153   \n",
       "1367700.0                          183                     183   \n",
       "1371100.0                          323                     323   \n",
       "1372000.0                          286                     286   \n",
       "1401300.0                          576                     576   \n",
       "1417300.0                          465                     465   \n",
       "1447100.0                          576                     575   \n",
       "1478000.0                          108                     108   \n",
       "1514500.0                          245                     245   \n",
       "1526700.0                           37                      37   \n",
       "1538700.0                          386                     386   \n",
       "1541200.0                           87                      87   \n",
       "1543300.0                           18                      18   \n",
       "1627700.0                          642                     641   \n",
       "1641900.0                         1509                    1509   \n",
       "1674900.0                          588                     587   \n",
       "1701100.0                           17                      17   \n",
       "1948400.0                           75                      75   \n",
       "1983600.0                            6                       6   \n",
       "2166200.0                          120                     119   \n",
       "2194900.0                          252                     252   \n",
       "2246900.0                          149                     149   \n",
       "2248300.0                            8                       8   \n",
       "2398800.0                          158                     158   \n",
       "2477300.0                            1                       1   \n",
       "2500700.0                           38                      38   \n",
       "2689300.0                           98                      98   \n",
       "2907500.0                          299                     297   \n",
       "3393300.0                           68                      68   \n",
       "4895400.0                          126                     126   \n",
       "\n",
       "           review_scores_rating  review_scores_value  room_type  state  \\\n",
       "2017-06                                                                  \n",
       "167100.0                      0                    0          1      1   \n",
       "205300.0                      1                    1          7      7   \n",
       "221800.0                      5                    5         10     10   \n",
       "238600.0                      3                    3          7      7   \n",
       "239300.0                     12                   12         16     16   \n",
       "269900.0                      2                    2          3      3   \n",
       "270200.0                      2                    2          3      3   \n",
       "282800.0                      1                    1          1      1   \n",
       "322300.0                      9                    9         14     14   \n",
       "333200.0                      4                    4          5      5   \n",
       "342500.0                    243                  242        312    312   \n",
       "344000.0                      6                    6          8      8   \n",
       "350100.0                      1                    1          2      2   \n",
       "354100.0                      3                    3          5      5   \n",
       "354500.0                     13                   13         18     18   \n",
       "364400.0                      6                    6          8      8   \n",
       "364500.0                      4                    4          6      6   \n",
       "365200.0                      6                    6         11     11   \n",
       "367500.0                      2                    2          3      3   \n",
       "372400.0                      2                    2          6      6   \n",
       "373100.0                      1                    1          1      1   \n",
       "374600.0                      4                    4          8      8   \n",
       "376300.0                     41                   41         62     62   \n",
       "377100.0                     34                   34         41     41   \n",
       "377400.0                      5                    5         12     12   \n",
       "388300.0                      9                    9         17     17   \n",
       "390000.0                     25                   25         30     30   \n",
       "393000.0                      4                    4          9      9   \n",
       "398800.0                     18                   18         22     22   \n",
       "399400.0                     58                   57         74     74   \n",
       "...                         ...                  ...        ...    ...   \n",
       "1359500.0                   154                  152        215    215   \n",
       "1367700.0                   184                  183        241    241   \n",
       "1371100.0                   324                  322        435    435   \n",
       "1372000.0                   286                  286        355    355   \n",
       "1401300.0                   576                  575        718    718   \n",
       "1417300.0                   465                  465        571    571   \n",
       "1447100.0                   577                  575        744    744   \n",
       "1478000.0                   108                  107        133    133   \n",
       "1514500.0                   245                  245        299    299   \n",
       "1526700.0                    37                   37         55     55   \n",
       "1538700.0                   387                  386        510    510   \n",
       "1541200.0                    87                   87        118    118   \n",
       "1543300.0                    18                   18         27     27   \n",
       "1627700.0                   642                  641        839    839   \n",
       "1641900.0                  1512                 1509       1731   1731   \n",
       "1674900.0                   590                  587        697    697   \n",
       "1701100.0                    17                   17         29     29   \n",
       "1948400.0                    75                   75         99     99   \n",
       "1983600.0                     6                    6          7      7   \n",
       "2166200.0                   120                  119        160    160   \n",
       "2194900.0                   252                  252        329    329   \n",
       "2246900.0                   149                  149        188    188   \n",
       "2248300.0                     8                    8          9      9   \n",
       "2398800.0                   158                  158        228    228   \n",
       "2477300.0                     1                    1          1      1   \n",
       "2500700.0                    38                   38         72     72   \n",
       "2689300.0                    98                   98        153    153   \n",
       "2907500.0                   299                  297        425    425   \n",
       "3393300.0                    68                   68         90     90   \n",
       "4895400.0                   126                  126        222    222   \n",
       "\n",
       "           weekly_price  zipcode  \n",
       "2017-06                           \n",
       "167100.0              0        1  \n",
       "205300.0              1        7  \n",
       "221800.0              1       10  \n",
       "238600.0              2        7  \n",
       "239300.0              3       16  \n",
       "269900.0              0        3  \n",
       "270200.0              0        3  \n",
       "282800.0              1        1  \n",
       "322300.0              4       14  \n",
       "333200.0              1        5  \n",
       "342500.0             60      312  \n",
       "344000.0              4        8  \n",
       "350100.0              0        2  \n",
       "354100.0              0        5  \n",
       "354500.0              1       18  \n",
       "364400.0              0        8  \n",
       "364500.0              2        6  \n",
       "365200.0              2       11  \n",
       "367500.0              0        3  \n",
       "372400.0              0        6  \n",
       "373100.0              0        1  \n",
       "374600.0              5        8  \n",
       "376300.0             12       62  \n",
       "377100.0              4       41  \n",
       "377400.0              1       12  \n",
       "388300.0              2       17  \n",
       "390000.0              4       30  \n",
       "393000.0              1        9  \n",
       "398800.0              5       22  \n",
       "399400.0             26       74  \n",
       "...                 ...      ...  \n",
       "1359500.0            58      215  \n",
       "1367700.0            60      241  \n",
       "1371100.0           136      435  \n",
       "1372000.0           103      355  \n",
       "1401300.0           241      718  \n",
       "1417300.0           157      571  \n",
       "1447100.0           246      744  \n",
       "1478000.0            33      133  \n",
       "1514500.0            79      299  \n",
       "1526700.0            10       55  \n",
       "1538700.0           137      510  \n",
       "1541200.0            44      118  \n",
       "1543300.0            13       27  \n",
       "1627700.0           226      839  \n",
       "1641900.0           476     1731  \n",
       "1674900.0           227      697  \n",
       "1701100.0            11       29  \n",
       "1948400.0            31       99  \n",
       "1983600.0             0        7  \n",
       "2166200.0            27      160  \n",
       "2194900.0            77      329  \n",
       "2246900.0            63      188  \n",
       "2248300.0             0        9  \n",
       "2398800.0            60      228  \n",
       "2477300.0             1        1  \n",
       "2500700.0            19       72  \n",
       "2689300.0            54      153  \n",
       "2907500.0           115      425  \n",
       "3393300.0            30       90  \n",
       "4895400.0            43      222  \n",
       "\n",
       "[345 rows x 29 columns]"
      ]
     },
     "execution_count": 56,
     "metadata": {},
     "output_type": "execute_result"
    }
   ],
   "source": [
    "re_with_index.groupby('2017-06')."
   ]
  },
  {
   "cell_type": "code",
   "execution_count": 68,
   "metadata": {
    "collapsed": false
   },
   "outputs": [
    {
     "data": {
      "text/plain": [
       "array(['los angeles', 'oakland', 'san diego', 'san francisco',\n",
       "       'santa cruz', 'seattle', 'portland'], dtype=object)"
      ]
     },
     "execution_count": 68,
     "metadata": {},
     "output_type": "execute_result"
    }
   ],
   "source": [
    "venues['city'].unique()"
   ]
  },
  {
   "cell_type": "code",
   "execution_count": 82,
   "metadata": {
    "collapsed": false
   },
   "outputs": [],
   "source": [
    "la_stores = venues[(venues['city'] == 'los angeles') & (venues.types.str.contains('store'))]"
   ]
  },
  {
   "cell_type": "code",
   "execution_count": 83,
   "metadata": {
    "collapsed": false
   },
   "outputs": [],
   "source": [
    "la_food = venues[(venues['city'] == 'los angeles') & (venues.types.str.contains('food'))]"
   ]
  },
  {
   "cell_type": "code",
   "execution_count": 84,
   "metadata": {
    "collapsed": true
   },
   "outputs": [],
   "source": [
    "la_transit = venues[(venues['city'] == 'los angeles') & (venues.types.str.contains('transit_station'))]"
   ]
  },
  {
   "cell_type": "code",
   "execution_count": 92,
   "metadata": {
    "collapsed": false
   },
   "outputs": [
    {
     "name": "stdout",
     "output_type": "stream",
     "text": [
      "27626\n",
      "18108\n",
      "14589\n"
     ]
    }
   ],
   "source": [
    "print(len(la_stores))\n",
    "print(len(la_food))\n",
    "print(len(la_transit))"
   ]
  },
  {
   "cell_type": "code",
   "execution_count": 89,
   "metadata": {
    "collapsed": true
   },
   "outputs": [],
   "source": [
    "port_stores = venues[(venues['city'] == 'portland') & (venues.types.str.contains('store'))]\n",
    "sc_stores = venues[(venues['city'] == 'santa cruz') & (venues.types.str.contains('store'))]\n",
    "oak_stores = venues[(venues['city'] == 'oakland') & (venues.types.str.contains('store'))]\n",
    "sd_stores = venues[(venues['city'] == 'san diego') & (venues.types.str.contains('store'))]\n",
    "sf_stores = venues[(venues['city'] == 'san francisco') & (venues.types.str.contains('store'))]\n",
    "sea_stores = venues[(venues['city'] == 'seattle') & (venues.types.str.contains('store'))]\n"
   ]
  },
  {
   "cell_type": "code",
   "execution_count": 90,
   "metadata": {
    "collapsed": true
   },
   "outputs": [],
   "source": [
    "port_food = venues[(venues['city'] == 'portland') & (venues.types.str.contains('food'))]\n",
    "sc_food = venues[(venues['city'] == 'santa cruz') & (venues.types.str.contains('food'))]\n",
    "oak_food = venues[(venues['city'] == 'oakland') & (venues.types.str.contains('food'))]\n",
    "sd_food = venues[(venues['city'] == 'san diego') & (venues.types.str.contains('food'))]\n",
    "sf_food = venues[(venues['city'] == 'san francisco') & (venues.types.str.contains('food'))]\n",
    "sea_food = venues[(venues['city'] == 'seattle') & (venues.types.str.contains('food'))]"
   ]
  },
  {
   "cell_type": "code",
   "execution_count": 91,
   "metadata": {
    "collapsed": true
   },
   "outputs": [],
   "source": [
    "port_transit = venues[(venues['city'] == 'portland') & (venues.types.str.contains('transit_station'))]\n",
    "sc_transit = venues[(venues['city'] == 'santa cruz') & (venues.types.str.contains('transit_station'))]\n",
    "oak_transit = venues[(venues['city'] == 'oakland') & (venues.types.str.contains('transit_station'))]\n",
    "sd_transit = venues[(venues['city'] == 'san diego') & (venues.types.str.contains('transit_station'))]\n",
    "sf_transit = venues[(venues['city'] == 'san francisco') & (venues.types.str.contains('transit_station'))]\n",
    "sea_transit = venues[(venues['city'] == 'seattle') & (venues.types.str.contains('transit_station'))]"
   ]
  },
  {
   "cell_type": "code",
   "execution_count": 139,
   "metadata": {
    "collapsed": false
   },
   "outputs": [
    {
     "name": "stdout",
     "output_type": "stream",
     "text": [
      "6410\n",
      "3822\n",
      "3085\n",
      "100.0\n"
     ]
    }
   ],
   "source": [
    "print(len(sea_stores))\n",
    "print(len(sea_food))\n",
    "print(len(sea_transit))\n",
    "print(sea_prices.median())"
   ]
  },
  {
   "cell_type": "code",
   "execution_count": 140,
   "metadata": {
    "collapsed": false
   },
   "outputs": [
    {
     "name": "stdout",
     "output_type": "stream",
     "text": [
      "6375\n",
      "3676\n",
      "3679\n",
      "95.0\n"
     ]
    }
   ],
   "source": [
    "print(len(oak_stores))\n",
    "print(len(oak_food))\n",
    "print(len(oak_transit))\n",
    "print(oak_prices.median())"
   ]
  },
  {
   "cell_type": "code",
   "execution_count": 141,
   "metadata": {
    "collapsed": false
   },
   "outputs": [
    {
     "name": "stdout",
     "output_type": "stream",
     "text": [
      "15341\n",
      "7245\n",
      "8406\n",
      "90.0\n"
     ]
    }
   ],
   "source": [
    "print(len(port_stores))\n",
    "print(len(port_food))\n",
    "print(len(port_transit))\n",
    "print(port_prices.median())"
   ]
  },
  {
   "cell_type": "code",
   "execution_count": 142,
   "metadata": {
    "collapsed": false
   },
   "outputs": [
    {
     "name": "stdout",
     "output_type": "stream",
     "text": [
      "10761\n",
      "6511\n",
      "5025\n",
      "160.0\n"
     ]
    }
   ],
   "source": [
    "print(len(sf_stores))\n",
    "print(len(sf_food))\n",
    "print(len(sf_transit))\n",
    "print(sf_prices.median())"
   ]
  },
  {
   "cell_type": "code",
   "execution_count": 143,
   "metadata": {
    "collapsed": false
   },
   "outputs": [
    {
     "name": "stdout",
     "output_type": "stream",
     "text": [
      "1484\n",
      "635\n",
      "430\n",
      "150.0\n"
     ]
    }
   ],
   "source": [
    "print(len(sc_stores))\n",
    "print(len(sc_food))\n",
    "print(len(sc_transit))\n",
    "print(sc_prices.median())"
   ]
  },
  {
   "cell_type": "code",
   "execution_count": 144,
   "metadata": {
    "collapsed": false
   },
   "outputs": [
    {
     "name": "stdout",
     "output_type": "stream",
     "text": [
      "6862\n",
      "3540\n",
      "2473\n",
      "135.0\n"
     ]
    }
   ],
   "source": [
    "print(len(sd_stores))\n",
    "print(len(sd_food))\n",
    "print(len(sd_transit))\n",
    "print(sd_prices.median())"
   ]
  },
  {
   "cell_type": "code",
   "execution_count": 102,
   "metadata": {
    "collapsed": true
   },
   "outputs": [],
   "source": [
    "city_stores = [len(sd_stores), len(oak_stores), len(port_stores), len(la_stores), len(sea_stores), len(sf_stores), len(sc_stores)]"
   ]
  },
  {
   "cell_type": "code",
   "execution_count": 103,
   "metadata": {
    "collapsed": true
   },
   "outputs": [],
   "source": [
    "city_food = [len(sd_food), len(oak_food), len(port_food), len(la_food), len(sea_food), len(sf_food), len(sc_food)]"
   ]
  },
  {
   "cell_type": "code",
   "execution_count": 104,
   "metadata": {
    "collapsed": true
   },
   "outputs": [],
   "source": [
    "city_transit = num_stores = [len(sd_transit), len(oak_transit), len(port_transit), len(la_transit), len(sea_transit), len(sf_transit), len(sc_transit)]"
   ]
  },
  {
   "cell_type": "code",
   "execution_count": 122,
   "metadata": {
    "collapsed": false
   },
   "outputs": [],
   "source": [
    "median_prices = []\n",
    "\n",
    "sd_prices = listings[listings['city'] == 'san diego']['price'].str.replace('$', '').str.replace(',', '')\n",
    "sd_prices = pd.to_numeric(sd_prices)\n",
    "\n",
    "oak_prices = listings[listings['city'] == 'oakland']['price'].str.replace('$', '').str.replace(',', '')\n",
    "oak_prices = pd.to_numeric(oak_prices)\n",
    "\n",
    "sf_prices = listings[listings['city'] == 'san francisco']['price'].str.replace('$', '').str.replace(',', '')\n",
    "sf_prices = pd.to_numeric(sf_prices)\n",
    "\n",
    "sc_prices = listings[listings['city'] == 'santa cruz']['price'].str.replace('$', '').str.replace(',', '')\n",
    "sc_prices = pd.to_numeric(sc_prices)\n",
    "\n",
    "la_prices = listings[listings['city'] == 'los angeles']['price'].str.replace('$', '').str.replace(',', '')\n",
    "la_prices = pd.to_numeric(la_prices)\n",
    "\n",
    "sea_prices = listings[listings['city'] == 'seattle']['price'].str.replace('$', '').str.replace(',', '')\n",
    "sea_prices = pd.to_numeric(sea_prices)\n",
    "\n",
    "port_prices = listings[listings['city'] == 'portland']['price'].str.replace('$', '').str.replace(',', '')\n",
    "port_prices = pd.to_numeric(port_prices)\n",
    "\n",
    "median_prices.append(sd_prices.median())\n",
    "median_prices.append(oak_prices.median())\n",
    "median_prices.append(port_prices.median())\n",
    "median_prices.append(la_prices.median())\n",
    "median_prices.append(sea_prices.median())\n",
    "median_prices.append(sf_prices.median())\n",
    "median_prices.append(sc_prices.median())\n"
   ]
  },
  {
   "cell_type": "code",
   "execution_count": 136,
   "metadata": {
    "collapsed": false,
    "scrolled": false
   },
   "outputs": [
    {
     "data": {
      "image/png": "[encoded data removed]",
      "text/plain": [
       "<matplotlib.figure.Figure at 0x108df3310>"
      ]
     },
     "metadata": {},
     "output_type": "display_data"
    }
   ],
   "source": [
    "plt.plot(city_stores, median_prices, \"o\")\n",
    "plt.title(\"Median AirBnB Rental Price, by number of stores\")\n",
    "plt.xlabel(\"Number of stores in city\")\n",
    "plt.ylabel(\"Median rental price of city\")\n",
    "plt.show()"
   ]
  },
  {
   "cell_type": "code",
   "execution_count": 137,
   "metadata": {
    "collapsed": false
   },
   "outputs": [
    {
     "data": {
      "image/png": "[encoded data removed]",
      "text/plain": [
       "<matplotlib.figure.Figure at 0x10f466bd0>"
      ]
     },
     "metadata": {},
     "output_type": "display_data"
    }
   ],
   "source": [
    "plt.plot(city_food, median_prices, \"o\")\n",
    "plt.title(\"Median AirBnB Rental Price, by number of Food Venues\")\n",
    "plt.xlabel(\"Number of food venues in city\")\n",
    "plt.ylabel(\"Median rental price of city\")\n",
    "plt.show()"
   ]
  },
  {
   "cell_type": "code",
   "execution_count": 138,
   "metadata": {
    "collapsed": false
   },
   "outputs": [
    {
     "data": {
      "image/png": "[encoded data removed]",
      "text/plain": [
       "<matplotlib.figure.Figure at 0x108df3b50>"
      ]
     },
     "metadata": {},
     "output_type": "display_data"
    }
   ],
   "source": [
    "plt.plot(city_transit, median_prices, \"o\")\n",
    "plt.title(\"Median AirBnB Rental Price, by number of Public Transit Venues\")\n",
    "plt.xlabel(\"Number of public transit venues in city\")\n",
    "plt.ylabel(\"Median rental price of city\")\n",
    "plt.show()"
   ]
  },
  {
   "cell_type": "code",
   "execution_count": 149,
   "metadata": {
    "collapsed": false
   },
   "outputs": [
    {
     "name": "stdout",
     "output_type": "stream",
     "text": [
      "0.253811659193\n"
     ]
    }
   ],
   "source": [
    "oak_transit_ratio = (float)(len(oak_transit)) / (len(venues[venues['city'] == 'oakland']))\n",
    "print(oak_transit_ratio)"
   ]
  },
  {
   "cell_type": "code",
   "execution_count": 150,
   "metadata": {
    "collapsed": false
   },
   "outputs": [
    {
     "name": "stdout",
     "output_type": "stream",
     "text": [
      "0.285326363667\n"
     ]
    }
   ],
   "source": [
    "port_transit_ratio = (float)(len(port_transit)) / (len(venues[venues['city'] == 'portland']))\n",
    "print(port_transit_ratio)"
   ]
  },
  {
   "cell_type": "code",
   "execution_count": 151,
   "metadata": {
    "collapsed": false
   },
   "outputs": [
    {
     "name": "stdout",
     "output_type": "stream",
     "text": [
      "0.150297098916\n"
     ]
    }
   ],
   "source": [
    "sc_transit_ratio = (float)(len(sc_transit)) / (len(venues[venues['city'] == 'santa cruz']))\n",
    "print(sc_transit_ratio)"
   ]
  },
  {
   "cell_type": "code",
   "execution_count": 152,
   "metadata": {
    "collapsed": false
   },
   "outputs": [
    {
     "name": "stdout",
     "output_type": "stream",
     "text": [
      "0.212348568282\n"
     ]
    }
   ],
   "source": [
    "sea_transit_ratio = (float)(len(sea_transit)) / (len(venues[venues['city'] == 'seattle']))\n",
    "print(sea_transit_ratio)"
   ]
  },
  {
   "cell_type": "code",
   "execution_count": 153,
   "metadata": {
    "collapsed": false
   },
   "outputs": [
    {
     "name": "stdout",
     "output_type": "stream",
     "text": [
      "0.219409853817\n"
     ]
    }
   ],
   "source": [
    "la_transit_ratio = (float)(len(la_transit)) / (len(venues[venues['city'] == 'los angeles']))\n",
    "print(la_transit_ratio)"
   ]
  },
  {
   "cell_type": "code",
   "execution_count": 154,
   "metadata": {
    "collapsed": false
   },
   "outputs": [
    {
     "name": "stdout",
     "output_type": "stream",
     "text": [
      "0.174474389728\n"
     ]
    }
   ],
   "source": [
    "sd_transit_ratio = (float)(len(sd_transit)) / (len(venues[venues['city'] == 'san diego']))\n",
    "print(sd_transit_ratio)"
   ]
  },
  {
   "cell_type": "code",
   "execution_count": 155,
   "metadata": {
    "collapsed": false
   },
   "outputs": [
    {
     "name": "stdout",
     "output_type": "stream",
     "text": [
      "0.209602068908\n"
     ]
    }
   ],
   "source": [
    "sf_transit_ratio = (float)(len(sf_transit)) / (len(venues[venues['city'] == 'san francisco']))\n",
    "print(sf_transit_ratio)"
   ]
  },
  {
   "cell_type": "code",
   "execution_count": 156,
   "metadata": {
    "collapsed": true
   },
   "outputs": [],
   "source": [
    "transit_ratios = []\n",
    "\n",
    "transit_ratios.append(sd_transit_ratio)\n",
    "transit_ratios.append(oak_transit_ratio)\n",
    "transit_ratios.append(port_transit_ratio)\n",
    "transit_ratios.append(la_transit_ratio)\n",
    "transit_ratios.append(sea_transit_ratio)\n",
    "transit_ratios.append(sf_transit_ratio)\n",
    "transit_ratios.append(sc_transit_ratio)"
   ]
  },
  {
   "cell_type": "code",
   "execution_count": 158,
   "metadata": {
    "collapsed": false
   },
   "outputs": [
    {
     "data": {
      "image/png": "[encoded data removed]",
      "text/plain": [
       "<matplotlib.figure.Figure at 0x110560a10>"
      ]
     },
     "metadata": {},
     "output_type": "display_data"
    }
   ],
   "source": [
    "plt.plot(transit_ratios, median_prices, \"o\")\n",
    "plt.title(\"Median AirBnB Rental Price, by ratio of transit venues\")\n",
    "plt.xlabel(\"Ratio of public transit venues to all venues in city\")\n",
    "plt.ylabel(\"Median rental price of city\")\n",
    "plt.show()"
   ]
  },
  {
   "cell_type": "code",
   "execution_count": 160,
   "metadata": {
    "collapsed": true
   },
   "outputs": [],
   "source": [
    "num_venues = []\n",
    "\n",
    "num_venues.append(len(venues[venues['city'] == 'san diego']))\n",
    "num_venues.append(len(venues[venues['city'] == 'oakland']))\n",
    "num_venues.append(len(venues[venues['city'] == 'portland']))\n",
    "num_venues.append(len(venues[venues['city'] == 'los angeles']))\n",
    "num_venues.append(len(venues[venues['city'] == 'seattle']))\n",
    "num_venues.append(len(venues[venues['city'] == 'san francisco']))\n",
    "num_venues.append(len(venues[venues['city'] == 'santa cruz']))"
   ]
  },
  {
   "cell_type": "code",
   "execution_count": 162,
   "metadata": {
    "collapsed": false
   },
   "outputs": [
    {
     "data": {
      "image/png": "[encoded data removed]",
      "text/plain": [
       "<matplotlib.figure.Figure at 0x1152ed650>"
      ]
     },
     "metadata": {},
     "output_type": "display_data"
    }
   ],
   "source": [
    "plt.plot(num_venues, median_prices, \"o\")\n",
    "plt.title(\"Median AirBnB Rental Price, by number of venues in city\")\n",
    "plt.xlabel(\"Total number of venues in city\")\n",
    "plt.ylabel(\"Median rental price of city\")\n",
    "plt.show()"
   ]
  },
  {
   "cell_type": "code",
   "execution_count": null,
   "metadata": {
    "collapsed": true
   },
   "outputs": [],
   "source": []
  }
 ],
 "metadata": {
  "kernelspec": {
   "display_name": "Python 2",
   "language": "python",
   "name": "python2"
  },
  "language_info": {
   "codemirror_mode": {
    "name": "ipython",
    "version": 2
   },
   "file_extension": ".py",
   "mimetype": "text/x-python",
   "name": "python",
   "nbconvert_exporter": "python",
   "pygments_lexer": "ipython2",
   "version": "2.7.13"
  }
 },
 "nbformat": 4,
 "nbformat_minor": 2
}
